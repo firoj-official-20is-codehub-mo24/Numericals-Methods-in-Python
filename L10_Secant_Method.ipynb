{
 "cells": [
  {
   "cell_type": "code",
   "execution_count": 5,
   "id": "6e5a337d-466d-4eaf-ad3c-3f6827019a85",
   "metadata": {},
   "outputs": [
    {
     "name": "stdin",
     "output_type": "stream",
     "text": [
      "Enter the value of x1: 1.2\n",
      "Enter the value of x2: 2\n"
     ]
    },
    {
     "name": "stdout",
     "output_type": "stream",
     "text": [
      "Root= 1.500000 at 8 iterations\n"
     ]
    }
   ],
   "source": [
    "def secant(y,x1,x2,tol,maxiter): \n",
    "    for iteration in range(maxiter):\n",
    "        xnew=x2-(x2-x1)/(y(x2)-y(x1))*y(x2)\n",
    "        if abs(xnew-x2)<tol:\n",
    "            break\n",
    "        else: \n",
    "            x1=x2\n",
    "            x2=xnew\n",
    "    else:\n",
    "        print(\"Maximum number of iterations is reached\")\n",
    "    return xnew, iteration\n",
    "\n",
    "y= lambda x: 2*x**2- 5*x +3\n",
    "x1=float(input(\"Enter the value of x1:\"))\n",
    "x2=float(input(\"Enter the value of x2:\"))\n",
    "\n",
    "r,n=secant(y,x1,x2,0.000001,100)\n",
    "\n",
    "print(\"Root= %f at %d iterations\"%(r,n))       "
   ]
  },
  {
   "cell_type": "code",
   "execution_count": 7,
   "id": "387d8079-cbcd-439f-8672-12e5bad8ccef",
   "metadata": {},
   "outputs": [
    {
     "name": "stdin",
     "output_type": "stream",
     "text": [
      "Enter the value of x1: 1.2\n",
      "Enter the value of x2: 2\n"
     ]
    },
    {
     "name": "stdout",
     "output_type": "stream",
     "text": [
      "Root= 1.500000 at 8 iterations\n"
     ]
    }
   ],
   "source": [
    "def secant(y,x1,x2,tol,maxiter): \n",
    "    for iteration in range(maxiter):\n",
    "        xnew=x2-(x2-x1)/(y(x2)-y(x1))*y(x2)\n",
    "        if abs(xnew-x2)<tol:\n",
    "            break\n",
    "        else: \n",
    "            x1=x2\n",
    "            x2=xnew\n",
    "    else:\n",
    "        print(\"Maximum number of iterations is reached\")\n",
    "    return xnew, iteration\n",
    "\n",
    "y= lambda x: 2*x**2- 5*x +3\n",
    "x1=float(input(\"Enter the value of x1:\"))\n",
    "x2=float(input(\"Enter the value of x2:\"))\n",
    "\n",
    "secant(y,x1,x2,0.000001,100)\n",
    "\n",
    "print(\"Root= %f at %d iterations\"%(r,n))       "
   ]
  },
  {
   "cell_type": "code",
   "execution_count": 11,
   "id": "01ec03da-32b8-4868-8e6d-7b297a7d26f5",
   "metadata": {},
   "outputs": [
    {
     "name": "stdin",
     "output_type": "stream",
     "text": [
      "Enter the value of x1:  1.2\n",
      "Enter the value of x2:  2\n"
     ]
    },
    {
     "name": "stdout",
     "output_type": "stream",
     "text": [
      "Root= 1.500000 at 8 iterations\n"
     ]
    }
   ],
   "source": [
    "# Define the function\n",
    "y = lambda x: 2*x**2 - 5*x + 3\n",
    "\n",
    "# Input values for the initial guesses\n",
    "x1 = float(input(\"Enter the value of x1: \"))\n",
    "x2 = float(input(\"Enter the value of x2: \"))\n",
    "\n",
    "# Tolerance and maximum number of iterations\n",
    "tol = 0.000001\n",
    "maxiter = 100\n",
    "\n",
    "# Initialize variables\n",
    "iteration = 0\n",
    "\n",
    "# Iterative process using the Secant method\n",
    "for iteration in range(maxiter):\n",
    "    # Calculate the new estimate\n",
    "    xnew = x2 - (x2 - x1) / (y(x2) - y(x1)) * y(x2)\n",
    "    \n",
    "    # Check if the result is within the tolerance\n",
    "    if abs(xnew - x2) < tol:\n",
    "        break\n",
    "    else:\n",
    "        # Update the previous values for the next iteration\n",
    "        x1 = x2\n",
    "        x2 = xnew\n",
    "else:\n",
    "    print(\"Maximum number of iterations is reached\")\n",
    "\n",
    "# Output the result\n",
    "print(\"Root= %f at %d iterations\" % (xnew, iteration))"
   ]
  },
  {
   "cell_type": "code",
   "execution_count": null,
   "id": "2dcfecae-6bc9-4d4a-a74a-e19fc00fb4f3",
   "metadata": {},
   "outputs": [],
   "source": []
  }
 ],
 "metadata": {
  "kernelspec": {
   "display_name": "Python 3 (ipykernel)",
   "language": "python",
   "name": "python3"
  },
  "language_info": {
   "codemirror_mode": {
    "name": "ipython",
    "version": 3
   },
   "file_extension": ".py",
   "mimetype": "text/x-python",
   "name": "python",
   "nbconvert_exporter": "python",
   "pygments_lexer": "ipython3",
   "version": "3.12.4"
  }
 },
 "nbformat": 4,
 "nbformat_minor": 5
}
