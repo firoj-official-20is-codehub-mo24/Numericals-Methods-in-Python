{
 "cells": [
  {
   "cell_type": "code",
   "execution_count": 1,
   "id": "50c48ad6-95e6-4e6b-b714-a9db9f622d20",
   "metadata": {},
   "outputs": [],
   "source": [
    "from scipy.optimize import newton, bisect, fsolve, root"
   ]
  },
  {
   "cell_type": "code",
   "execution_count": 3,
   "id": "577df3f3-b3c1-4684-a4e4-21624d633966",
   "metadata": {},
   "outputs": [],
   "source": [
    "f=lambda x: 2*x**2 - 5*x + 3"
   ]
  },
  {
   "cell_type": "code",
   "execution_count": 5,
   "id": "e9a73ff4-ea90-4b33-a0a9-1bb1da335447",
   "metadata": {},
   "outputs": [
    {
     "name": "stdout",
     "output_type": "stream",
     "text": [
      "0.9999999999999999\n"
     ]
    }
   ],
   "source": [
    "print(newton(f,0))"
   ]
  },
  {
   "cell_type": "code",
   "execution_count": 7,
   "id": "1c9c19fb-7e72-49b5-b635-3e4719135a67",
   "metadata": {},
   "outputs": [
    {
     "data": {
      "text/plain": [
       "0.9999999999999996"
      ]
     },
     "execution_count": 7,
     "metadata": {},
     "output_type": "execute_result"
    }
   ],
   "source": [
    "(newton(f,0.1))"
   ]
  },
  {
   "cell_type": "code",
   "execution_count": 11,
   "id": "70a586e3-9bb2-4eb5-b9a4-6f1ec6b65bb0",
   "metadata": {},
   "outputs": [
    {
     "data": {
      "text/plain": [
       "1.4999999999999996"
      ]
     },
     "execution_count": 11,
     "metadata": {},
     "output_type": "execute_result"
    }
   ],
   "source": [
    "(newton(f,2))"
   ]
  },
  {
   "cell_type": "code",
   "execution_count": 13,
   "id": "33ad7f2b-fb5c-4fc6-bbcb-a11f71c6b42c",
   "metadata": {},
   "outputs": [
    {
     "data": {
      "text/plain": [
       "0.9999999999996361"
      ]
     },
     "execution_count": 13,
     "metadata": {},
     "output_type": "execute_result"
    }
   ],
   "source": [
    "bisect(f,0,1.2)"
   ]
  },
  {
   "cell_type": "code",
   "execution_count": 15,
   "id": "d8fdefb7-5728-4b1b-9c77-8679dc2dcff2",
   "metadata": {},
   "outputs": [
    {
     "data": {
      "text/plain": [
       "1.5"
      ]
     },
     "execution_count": 15,
     "metadata": {},
     "output_type": "execute_result"
    }
   ],
   "source": [
    "bisect(f,1.2,2)"
   ]
  },
  {
   "cell_type": "code",
   "execution_count": 19,
   "id": "67a8c929-8e9e-4b05-b563-d2ed2ddd5e5c",
   "metadata": {},
   "outputs": [
    {
     "name": "stdout",
     "output_type": "stream",
     "text": [
      "[1.]\n"
     ]
    }
   ],
   "source": [
    "print(fsolve(f,0))"
   ]
  },
  {
   "cell_type": "code",
   "execution_count": 21,
   "id": "94cbe3e3-f91e-441d-a70c-d4ab3fdd2a72",
   "metadata": {},
   "outputs": [
    {
     "name": "stdout",
     "output_type": "stream",
     "text": [
      "[1.5]\n"
     ]
    }
   ],
   "source": [
    "print(fsolve(f,2))"
   ]
  },
  {
   "cell_type": "code",
   "execution_count": 23,
   "id": "7f088b8c-03df-44c4-b8e1-766d9af4f6c9",
   "metadata": {},
   "outputs": [
    {
     "name": "stdout",
     "output_type": "stream",
     "text": [
      "[1.5]\n"
     ]
    }
   ],
   "source": [
    "print(fsolve(f,4))"
   ]
  },
  {
   "cell_type": "code",
   "execution_count": 25,
   "id": "dccc38c9-eb2d-4211-84ec-8493fc5cfa32",
   "metadata": {},
   "outputs": [],
   "source": [
    "x0=[-1,0,1,-2,3,4]"
   ]
  },
  {
   "cell_type": "code",
   "execution_count": 27,
   "id": "606a7dfa-de84-4c9b-be21-ce43dd21cbda",
   "metadata": {},
   "outputs": [
    {
     "name": "stdout",
     "output_type": "stream",
     "text": [
      "[1.  1.  1.  1.  1.5 1.5]\n"
     ]
    }
   ],
   "source": [
    "print(fsolve(f,x0))"
   ]
  },
  {
   "cell_type": "code",
   "execution_count": 35,
   "id": "78ea3e25-199b-418c-a657-af86aa92a470",
   "metadata": {},
   "outputs": [
    {
     "data": {
      "text/plain": [
       " message: The solution converged.\n",
       " success: True\n",
       "  status: 1\n",
       "     fun: [ 0.000e+00]\n",
       "       x: [ 1.000e+00]\n",
       "  method: hybr\n",
       "    nfev: 11\n",
       "    fjac: [[-1.000e+00]]\n",
       "       r: [ 1.000e+00]\n",
       "     qtf: [-1.033e-10]"
      ]
     },
     "execution_count": 35,
     "metadata": {},
     "output_type": "execute_result"
    }
   ],
   "source": [
    "root(f,0)"
   ]
  },
  {
   "cell_type": "code",
   "execution_count": 33,
   "id": "a0320e2e-12f1-4805-acd1-4695c76089d2",
   "metadata": {
    "scrolled": true
   },
   "outputs": [
    {
     "data": {
      "text/plain": [
       "array([1.])"
      ]
     },
     "execution_count": 33,
     "metadata": {},
     "output_type": "execute_result"
    }
   ],
   "source": [
    "root(f,0).x"
   ]
  },
  {
   "cell_type": "code",
   "execution_count": 31,
   "id": "73b5a98f-9608-464d-b00a-e916e632447c",
   "metadata": {},
   "outputs": [
    {
     "name": "stdout",
     "output_type": "stream",
     "text": [
      " message: The solution converged.\n",
      " success: True\n",
      "  status: 1\n",
      "     fun: [ 0.000e+00]\n",
      "       x: [ 1.000e+00]\n",
      "  method: hybr\n",
      "    nfev: 11\n",
      "    fjac: [[-1.000e+00]]\n",
      "       r: [ 1.000e+00]\n",
      "     qtf: [-1.033e-10]\n"
     ]
    }
   ],
   "source": [
    "print(root(f,0))"
   ]
  },
  {
   "cell_type": "code",
   "execution_count": 37,
   "id": "0b65842a-7281-40c7-a84a-cb9b6b4a6937",
   "metadata": {},
   "outputs": [
    {
     "name": "stdout",
     "output_type": "stream",
     "text": [
      "[1.]\n"
     ]
    }
   ],
   "source": [
    "print(root(f,0).x)"
   ]
  },
  {
   "cell_type": "code",
   "execution_count": null,
   "id": "16aef682-40cb-4dc5-ac65-d0d9eb8605dd",
   "metadata": {},
   "outputs": [],
   "source": []
  }
 ],
 "metadata": {
  "kernelspec": {
   "display_name": "Python 3 (ipykernel)",
   "language": "python",
   "name": "python3"
  },
  "language_info": {
   "codemirror_mode": {
    "name": "ipython",
    "version": 3
   },
   "file_extension": ".py",
   "mimetype": "text/x-python",
   "name": "python",
   "nbconvert_exporter": "python",
   "pygments_lexer": "ipython3",
   "version": "3.12.4"
  }
 },
 "nbformat": 4,
 "nbformat_minor": 5
}
