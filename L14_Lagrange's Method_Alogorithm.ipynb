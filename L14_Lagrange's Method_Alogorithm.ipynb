{
 "cells": [
  {
   "cell_type": "code",
   "execution_count": 29,
   "id": "d5c6a3e1-11d8-4a8b-a4a8-20e0f6bda186",
   "metadata": {},
   "outputs": [
    {
     "name": "stdout",
     "output_type": "stream",
     "text": [
      "[0, 20, 40, 60, 80, 100]\n",
      "[26.0, 48.6, 61.6, 71.2, 74.8, 75.2]\n"
     ]
    },
    {
     "name": "stdin",
     "output_type": "stream",
     "text": [
      "Enter x: 200\n"
     ]
    },
    {
     "name": "stdout",
     "output_type": "stream",
     "text": [
      "For x= 200.0, y=2294.4\n"
     ]
    }
   ],
   "source": [
    "#When data points are more then the stability of the curve is not \n",
    "x=[0,20,40,60,80,100]\n",
    "y=[26.0,48.6,61.6,71.2,74.8,75.2]\n",
    "\n",
    "print(x)\n",
    "print(y)\n",
    "\n",
    "m=len(x)\n",
    "n=m-1\n",
    "xp=float(input('Enter x:'))\n",
    "yp=0\n",
    "for i in range(n+1):\n",
    "    L=1\n",
    "    for j in range(n+1):\n",
    "        if j!=i:\n",
    "            L*=(xp-x[j])/(x[i]-x[j])\n",
    "    yp+=y[i]*L\n",
    "\n",
    "print('For x= %0.1f, y=%0.1f' % (xp,yp))"
   ]
  },
  {
   "cell_type": "code",
   "execution_count": 7,
   "id": "23d5d80a-5298-4b55-8c38-fb65c57aafaa",
   "metadata": {},
   "outputs": [
    {
     "name": "stdout",
     "output_type": "stream",
     "text": [
      "6\n"
     ]
    }
   ],
   "source": [
    "m=len(x)\n",
    "print(m)"
   ]
  },
  {
   "cell_type": "code",
   "execution_count": null,
   "id": "997d8cb0-06bb-4b14-ba5e-00b1f77744d7",
   "metadata": {},
   "outputs": [],
   "source": []
  }
 ],
 "metadata": {
  "kernelspec": {
   "display_name": "Python 3 (ipykernel)",
   "language": "python",
   "name": "python3"
  },
  "language_info": {
   "codemirror_mode": {
    "name": "ipython",
    "version": 3
   },
   "file_extension": ".py",
   "mimetype": "text/x-python",
   "name": "python",
   "nbconvert_exporter": "python",
   "pygments_lexer": "ipython3",
   "version": "3.12.4"
  }
 },
 "nbformat": 4,
 "nbformat_minor": 5
}
