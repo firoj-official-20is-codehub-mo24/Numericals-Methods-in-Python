{
 "cells": [
  {
   "cell_type": "code",
   "execution_count": 24,
   "id": "f84a971b-bfe1-46ef-bbf2-6f2ff84d8245",
   "metadata": {},
   "outputs": [],
   "source": [
    "import numpy as np"
   ]
  },
  {
   "cell_type": "code",
   "execution_count": 32,
   "id": "b5f63ccc-741e-486c-a73b-c6d34058dca6",
   "metadata": {},
   "outputs": [
    {
     "name": "stdout",
     "output_type": "stream",
     "text": [
      "[[0. 0. 0. 0. 0. 0.]\n",
      " [0. 0. 0. 0. 0. 0.]\n",
      " [0. 0. 0. 0. 0. 0.]\n",
      " [0. 0. 0. 0. 0. 0.]\n",
      " [0. 0. 0. 0. 0. 0.]\n",
      " [0. 0. 0. 0. 0. 0.]]\n",
      "\n",
      " [[ 0.          0.          0.          0.          0.          0.        ]\n",
      " [ 0.9         0.6         0.          0.          0.          0.        ]\n",
      " [ 2.5         0.89285714  0.22527473  0.          0.          0.        ]\n",
      " [ 6.6         1.5         0.31034483  0.05316881  0.          0.        ]\n",
      " [ 7.7         1.26229508  0.14397719 -0.02463562 -0.04576731  0.        ]\n",
      " [ 8.          1.          0.06153846 -0.03148774 -0.02351571  0.01171137]]\n"
     ]
    },
    {
     "name": "stdin",
     "output_type": "stream",
     "text": [
      "Enter x: 5\n"
     ]
    },
    {
     "name": "stdout",
     "output_type": "stream",
     "text": [
      "For x=5.0,y=7.6\n"
     ]
    }
   ],
   "source": [
    "x=[0,1.5,2.8,4.4,6.1,8.0]\n",
    "y=[0.0,0.9,2.5,6.6,7.7,8.0]\n",
    "n=len(x)-1\n",
    "Dy=np.zeros((n+1,n+1))\n",
    "print(Dy)\n",
    "Dy[:,0]=y\n",
    "for j in range(n):\n",
    "    for i in range(j+1,n+1):\n",
    "        Dy[i,j+1]= (Dy[i,j]-Dy[j,j])/(x[i]-x[j])\n",
    "        \n",
    "print('\\n',Dy)\n",
    "xp=float(input('Enter x:'))\n",
    "yp=Dy[0,0]\n",
    "for i in range(n):\n",
    "    xprod=1\n",
    "    for j in range(i+1):\n",
    "        xprod *= xp-x[j]\n",
    "    yp += xprod*Dy[i+1,i+1]\n",
    "print(\"For x=%0.1f,y=%0.1f\" % (xp,yp))\n",
    "        "
   ]
  },
  {
   "cell_type": "code",
   "execution_count": 34,
   "id": "301f6864-2eb3-4792-b41c-2970a1f26e0c",
   "metadata": {},
   "outputs": [
    {
     "name": "stdout",
     "output_type": "stream",
     "text": [
      "[[0. 0. 0. 0. 0. 0.]\n",
      " [0. 0. 0. 0. 0. 0.]\n",
      " [0. 0. 0. 0. 0. 0.]\n",
      " [0. 0. 0. 0. 0. 0.]\n",
      " [0. 0. 0. 0. 0. 0.]\n",
      " [0. 0. 0. 0. 0. 0.]]\n",
      "\n",
      " [[ 0.          0.          0.          0.          0.          0.        ]\n",
      " [ 0.9         0.6         0.          0.          0.          0.        ]\n",
      " [ 2.5         0.89285714  0.22527473  0.          0.          0.        ]\n",
      " [ 6.6         1.5         0.31034483  0.05316881  0.          0.        ]\n",
      " [ 7.7         1.26229508  0.14397719 -0.02463562 -0.04576731  0.        ]\n",
      " [ 8.          1.          0.06153846 -0.03148774 -0.02351571  0.01171137]]\n"
     ]
    },
    {
     "name": "stdin",
     "output_type": "stream",
     "text": [
      "Enter x:  1.5\n"
     ]
    },
    {
     "name": "stdout",
     "output_type": "stream",
     "text": [
      "For x = 1.5, y = 0.9\n"
     ]
    }
   ],
   "source": [
    "import numpy as np\n",
    "\n",
    "x = [0, 1.5, 2.8, 4.4, 6.1, 8.0]\n",
    "y = [0.0, 0.9, 2.5, 6.6, 7.7, 8.0]\n",
    "n = len(x) - 1\n",
    "Dy = np.zeros((n + 1, n + 1))\n",
    "print(Dy)\n",
    "\n",
    "Dy[:, 0] = y\n",
    "for j in range(n):\n",
    "    for i in range(j + 1, n + 1):\n",
    "        Dy[i, j + 1] = (Dy[i, j] - Dy[j, j]) / (x[i] - x[j])\n",
    "\n",
    "print('\\n', Dy)\n",
    "\n",
    "xp = float(input('Enter x: '))\n",
    "yp = Dy[0, 0]\n",
    "for i in range(n):\n",
    "    xprod = 1\n",
    "    for j in range(i + 1):\n",
    "        xprod *= xp - x[j]\n",
    "    yp += xprod * Dy[i + 1, i + 1]\n",
    "\n",
    "print(\"For x = %.1f, y = %.1f\" % (xp, yp))\n"
   ]
  },
  {
   "cell_type": "code",
   "execution_count": null,
   "id": "b84fad3c-bae5-473b-a0ff-fd9708fd77c8",
   "metadata": {},
   "outputs": [],
   "source": []
  }
 ],
 "metadata": {
  "kernelspec": {
   "display_name": "Python 3 (ipykernel)",
   "language": "python",
   "name": "python3"
  },
  "language_info": {
   "codemirror_mode": {
    "name": "ipython",
    "version": 3
   },
   "file_extension": ".py",
   "mimetype": "text/x-python",
   "name": "python",
   "nbconvert_exporter": "python",
   "pygments_lexer": "ipython3",
   "version": "3.12.4"
  }
 },
 "nbformat": 4,
 "nbformat_minor": 5
}
