{
 "cells": [
  {
   "cell_type": "code",
   "execution_count": 92,
   "id": "dd081181-131d-4f52-aa49-51aa2a56e1de",
   "metadata": {},
   "outputs": [],
   "source": [
    "#interpolation_scipy\n",
    "x = [0, 20, 40, 60, 80, 100]\n",
    "y = [26.0, 48.6, 61.6, 71.2, 74.8, 75.2]"
   ]
  },
  {
   "cell_type": "code",
   "execution_count": 94,
   "id": "a4c35fe0-3207-4bc3-9667-fd7c6f266c0f",
   "metadata": {},
   "outputs": [],
   "source": [
    "from scipy.interpolate import interp1d,lagrange"
   ]
  },
  {
   "cell_type": "code",
   "execution_count": 63,
   "id": "9387c2b5-b5a2-4143-b8c0-f9fdf97d9915",
   "metadata": {},
   "outputs": [
    {
     "data": {
      "text/plain": [
       "array(26.)"
      ]
     },
     "execution_count": 63,
     "metadata": {},
     "output_type": "execute_result"
    }
   ],
   "source": [
    "f=interp1d(x,y)  #Linear interpolation\n",
    "f(0)"
   ]
  },
  {
   "cell_type": "code",
   "execution_count": 65,
   "id": "7a701059-f33b-43a2-ad14-feb4b277bfed",
   "metadata": {},
   "outputs": [
    {
     "name": "stdout",
     "output_type": "stream",
     "text": [
      "26.0\n"
     ]
    }
   ],
   "source": [
    "print(f(0))"
   ]
  },
  {
   "cell_type": "code",
   "execution_count": 67,
   "id": "fe224b24-2af1-4e10-bc72-38ab13b7efe4",
   "metadata": {},
   "outputs": [
    {
     "name": "stdout",
     "output_type": "stream",
     "text": [
      "37.3\n"
     ]
    }
   ],
   "source": [
    "print(f(10))"
   ]
  },
  {
   "cell_type": "code",
   "execution_count": 69,
   "id": "ee7fd49f-e234-4bb8-a5f1-50a4c978969a",
   "metadata": {},
   "outputs": [],
   "source": [
    "f=interp1d(x,y,'quadratic')"
   ]
  },
  {
   "cell_type": "code",
   "execution_count": 71,
   "id": "af153b5a-7534-4040-955c-0dee5f2f1a2b",
   "metadata": {},
   "outputs": [
    {
     "name": "stdout",
     "output_type": "stream",
     "text": [
      "73.6202205882353\n",
      "66.95208333333333\n"
     ]
    }
   ],
   "source": [
    "print(f(70))\n",
    "print(f(50))"
   ]
  },
  {
   "cell_type": "code",
   "execution_count": 73,
   "id": "ee4ecf56-fae3-46a2-a7f7-086dc627abc3",
   "metadata": {},
   "outputs": [],
   "source": [
    "f=interp1d(x,y,'cubic')"
   ]
  },
  {
   "cell_type": "code",
   "execution_count": 75,
   "id": "60ba29f0-4d56-4f94-b299-7ca411617eba",
   "metadata": {},
   "outputs": [
    {
     "name": "stdout",
     "output_type": "stream",
     "text": [
      "73.70166666666667\n",
      "66.945\n"
     ]
    }
   ],
   "source": [
    "print(f(70))\n",
    "print(f(50))"
   ]
  },
  {
   "cell_type": "code",
   "execution_count": 77,
   "id": "11aec2a8-e236-496d-9cf0-3a553931e3c2",
   "metadata": {},
   "outputs": [
    {
     "name": "stdout",
     "output_type": "stream",
     "text": [
      "73.70166666666667\n",
      "66.945\n"
     ]
    }
   ],
   "source": [
    "print(f(70))\n",
    "print(f(50))"
   ]
  },
  {
   "cell_type": "code",
   "execution_count": 79,
   "id": "2ac62c29-970c-4733-ae2a-6875b775948b",
   "metadata": {},
   "outputs": [
    {
     "name": "stdout",
     "output_type": "stream",
     "text": [
      "47.77203666666668\n"
     ]
    }
   ],
   "source": [
    "print(f(19))"
   ]
  },
  {
   "cell_type": "code",
   "execution_count": 82,
   "id": "2ae703c6-6581-4c64-86d9-4a723846d90c",
   "metadata": {},
   "outputs": [],
   "source": [
    "L=lagrange(x,y)"
   ]
  },
  {
   "cell_type": "code",
   "execution_count": 86,
   "id": "0cbbc27c-2bee-4782-b998-57f4a5033b86",
   "metadata": {},
   "outputs": [
    {
     "name": "stdout",
     "output_type": "stream",
     "text": [
      "           5             4             3           2\n",
      "3.698e-08 x - 9.688e-06 x + 0.0009219 x - 0.04463 x + 1.725 x + 26\n"
     ]
    }
   ],
   "source": [
    "print(L)"
   ]
  },
  {
   "cell_type": "code",
   "execution_count": 88,
   "id": "a0d6cff8-1a7a-4503-99e0-cf823a4b3a47",
   "metadata": {},
   "outputs": [
    {
     "name": "stdout",
     "output_type": "stream",
     "text": [
      "66.94765624999957\n"
     ]
    }
   ],
   "source": [
    "print(L(50))"
   ]
  },
  {
   "cell_type": "code",
   "execution_count": 90,
   "id": "97a843f3-4743-4fae-800a-cc77b73c145c",
   "metadata": {},
   "outputs": [
    {
     "name": "stdout",
     "output_type": "stream",
     "text": [
      "61.599999999999746\n"
     ]
    }
   ],
   "source": [
    "print(L(40))"
   ]
  },
  {
   "cell_type": "code",
   "execution_count": 96,
   "id": "8e44bd7b-1f89-4c4b-956c-0988cce7b5ca",
   "metadata": {},
   "outputs": [],
   "source": [
    "#Curve fittinhg in Scipy"
   ]
  },
  {
   "cell_type": "code",
   "execution_count": 98,
   "id": "575ba4ae-0ec0-494e-b47a-b848aab5b37f",
   "metadata": {},
   "outputs": [],
   "source": [
    "x = [0, 20, 40, 60, 80, 100]\n",
    "y = [26.0, 48.6, 61.6, 71.2, 74.8, 75.2]"
   ]
  },
  {
   "cell_type": "code",
   "execution_count": 100,
   "id": "d47e19de-2171-43b2-8b7a-55783bc85c63",
   "metadata": {},
   "outputs": [],
   "source": [
    "from scipy.stats import linregress"
   ]
  },
  {
   "cell_type": "code",
   "execution_count": 102,
   "id": "a997cecb-a54e-4fa2-9e35-d01f52c2ee83",
   "metadata": {},
   "outputs": [],
   "source": [
    "L=linregress(x,y)"
   ]
  },
  {
   "cell_type": "code",
   "execution_count": 104,
   "id": "4fd8b147-33b5-4676-a7b5-db2d4c234822",
   "metadata": {},
   "outputs": [
    {
     "name": "stdout",
     "output_type": "stream",
     "text": [
      "LinregressResult(slope=0.47742857142857137, intercept=35.695238095238096, rvalue=0.9254673464560844, pvalue=0.008125655881776562, stderr=0.09771442495116786, intercept_stderr=5.916902266076723)\n"
     ]
    }
   ],
   "source": [
    "print(L)"
   ]
  },
  {
   "cell_type": "code",
   "execution_count": 106,
   "id": "d3ab9f57-cfb0-48e1-8419-4d69d458329d",
   "metadata": {},
   "outputs": [
    {
     "name": "stdout",
     "output_type": "stream",
     "text": [
      "0.47742857142857137\n"
     ]
    }
   ],
   "source": [
    "print(L.slope)"
   ]
  },
  {
   "cell_type": "code",
   "execution_count": 108,
   "id": "eb8c2866-c104-40ae-9a8b-dd4527d7ec8d",
   "metadata": {},
   "outputs": [
    {
     "name": "stdout",
     "output_type": "stream",
     "text": [
      "35.695238095238096\n"
     ]
    }
   ],
   "source": [
    "print(L.intercept)"
   ]
  },
  {
   "cell_type": "code",
   "execution_count": 110,
   "id": "742e612a-a660-419f-917b-4480b8d29d07",
   "metadata": {},
   "outputs": [],
   "source": [
    "x=[0,1,2,3,4,5]\n",
    "y=[2,8,14,28,62]"
   ]
  },
  {
   "cell_type": "code",
   "execution_count": 122,
   "id": "f5370619-7f93-4e90-b3bb-6992960a88c1",
   "metadata": {},
   "outputs": [],
   "source": [
    "from scipy.optimize import curve_fit"
   ]
  },
  {
   "cell_type": "code",
   "execution_count": 130,
   "id": "0d39d72d-5846-4127-a6b1-c5b30f849e2c",
   "metadata": {},
   "outputs": [
    {
     "name": "stdout",
     "output_type": "stream",
     "text": [
      "[2.67857143 2.25357143 1.875     ]\n"
     ]
    }
   ],
   "source": [
    "from scipy.optimize import curve_fit\n",
    "import numpy as np\n",
    "\n",
    "# Define the quadratic function\n",
    "def f(x, a0, a1, a2):\n",
    "    return a0 + a1 * x + a2 * x**2\n",
    "\n",
    "# Given data points\n",
    "x = np.array([0, 1, 2, 3, 4, 5])\n",
    "y = np.array([2, 8, 14, 28, 39, 62])\n",
    "\n",
    "# Use curve_fit to find the best-fit parameters a0, a1, and a2\n",
    "a, b = curve_fit(f, x, y)\n",
    "\n",
    "# Print the resulting coefficients\n",
    "print(a)\n"
   ]
  },
  {
   "cell_type": "code",
   "execution_count": 134,
   "id": "73b1b042-b2dc-4315-9e0e-78fe797f4dfb",
   "metadata": {},
   "outputs": [
    {
     "name": "stdout",
     "output_type": "stream",
     "text": [
      "[ 1.92857143e+00  5.67857143e+00 -2.17847962e-12  2.50000000e-01]\n",
      "[[ 3.68225352e+00 -1.81170252e+00 -7.83525133e-06  4.62383516e-02]\n",
      " [-1.81170252e+00  1.75673872e+00 -2.18158095e-05 -6.34981147e-02]\n",
      " [-7.83525133e-06 -2.18158095e-05  2.41729418e-09  1.07542719e-06]\n",
      " [ 4.62383516e-02 -6.34981147e-02  1.07542719e-06  2.73863476e-03]]\n"
     ]
    }
   ],
   "source": [
    "def f(x, a0, a1, a2,a3):\n",
    "    return a0 + a1 * x + a2 * x**2 +a3 * x**3\n",
    "\n",
    "# Given data points\n",
    "x = np.array([0, 1, 2, 3, 4, 5])\n",
    "y = np.array([2, 8, 14, 28, 39, 62])\n",
    "\n",
    "# Use curve_fit to find the best-fit parameters a0, a1, and a2\n",
    "a, b = curve_fit(f, x, y)\n",
    "\n",
    "# Print the resulting coefficients\n",
    "print(a)\n",
    "print(b)"
   ]
  },
  {
   "cell_type": "code",
   "execution_count": null,
   "id": "61c5c249-e1e1-407b-9a9e-f062701402c8",
   "metadata": {},
   "outputs": [],
   "source": []
  }
 ],
 "metadata": {
  "kernelspec": {
   "display_name": "Python 3 (ipykernel)",
   "language": "python",
   "name": "python3"
  },
  "language_info": {
   "codemirror_mode": {
    "name": "ipython",
    "version": 3
   },
   "file_extension": ".py",
   "mimetype": "text/x-python",
   "name": "python",
   "nbconvert_exporter": "python",
   "pygments_lexer": "ipython3",
   "version": "3.12.4"
  }
 },
 "nbformat": 4,
 "nbformat_minor": 5
}
