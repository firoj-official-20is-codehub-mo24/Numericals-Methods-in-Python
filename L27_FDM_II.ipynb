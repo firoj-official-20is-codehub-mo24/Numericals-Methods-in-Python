{
 "cells": [
  {
   "cell_type": "code",
   "execution_count": 125,
   "id": "bf97e2cf-2065-4ab7-b6d0-6b20193f2318",
   "metadata": {},
   "outputs": [
    {
     "name": "stdout",
     "output_type": "stream",
     "text": [
      "f'(0.1) = 0.093575625\n",
      "f''(0.1) = -0.11774999999999422\n",
      "f_analytical'(0.1) - f'_approx(0.1) = 0.09405000000000001 - 0.093575625 = 0.000474375000000013\n",
      "f_analytical''(0.1) - f''_approx(0.1) = -0.118 - -0.11774999999999422 = -0.0002500000000057734\n"
     ]
    }
   ],
   "source": [
    "#Central finite differences. Error: O(h2)\n",
    "f= lambda x: 0.1*x**5-0.2*x**3+0.1*x+0.2\n",
    "diff_f1= lambda x: 0.5*x**4 - 0.6*x**2 + 0.1\n",
    "diff_f2=lambda x: 2.0*x**3 - 1.2*x\n",
    "h=0.05\n",
    "x=0.1\n",
    "\n",
    "dff1=(f(x+h)-f(x-h))/(2*h)\n",
    "dff2=(f(x+h)-2*f(x)+f(x-h))/h**2\n",
    "#Comparing the values\n",
    "print(f\"f'(0.1) = {dff1}\")\n",
    "print(f\"f''(0.1) = {dff2}\")\n",
    "print(f\"f_analytical'(0.1) - f'_approx(0.1) = {diff_f1(0.1)} - {dff1} = {diff_f1(0.1) - dff1}\")\n",
    "print(f\"f_analytical''(0.1) - f''_approx(0.1) = {diff_f2(0.1)} - {dff2} = {diff_f2(0.1) - dff2}\")"
   ]
  },
  {
   "cell_type": "code",
   "execution_count": 127,
   "id": "1eb730cc-7593-4081-8a11-846bf692b150",
   "metadata": {},
   "outputs": [
    {
     "name": "stdout",
     "output_type": "stream",
     "text": [
      "f'(0.1) = 0.093575625\n",
      "f''(0.1) = -0.11774999999999422\n",
      "f_analytical'(0.1) - f'_approx(0.1) = 0.09405000000000001 - 0.093575625 = 0.000474375000000013\n",
      "f_analytical''(0.1) - f''_approx(0.1) = -0.118 - -0.11774999999999422 = -0.0002500000000057734\n"
     ]
    }
   ],
   "source": [
    "# Define the function and its analytical derivatives\n",
    "f = lambda x: 0.1*x**5 - 0.2*x**3 + 0.1*x + 0.2\n",
    "diff_f1 = lambda x: 0.5*x**4 - 0.6*x**2 + 0.1\n",
    "diff_f2 = lambda x: 2.0*x**3 - 1.2*x\n",
    "\n",
    "# Set the step size and point of evaluation\n",
    "h = 0.05\n",
    "x = 0.1\n",
    "\n",
    "# Compute the finite differences\n",
    "dff1 = (f(x + h) - f(x - h)) / (2 * h)  # Central difference for the first derivative\n",
    "dff2 = (f(x + h) - 2 * f(x) + f(x - h)) / h**2  # Central difference for the second derivative\n",
    "\n",
    "# Print the results\n",
    "print(f\"f'(0.1) = {dff1}\")\n",
    "print(f\"f''(0.1) = {dff2}\")\n",
    "print(f\"f_analytical'(0.1) - f'_approx(0.1) = {diff_f1(0.1)} - {dff1} = {diff_f1(0.1) - dff1}\")\n",
    "print(f\"f_analytical''(0.1) - f''_approx(0.1) = {diff_f2(0.1)} - {dff2} = {diff_f2(0.1) - dff2}\")\n"
   ]
  },
  {
   "cell_type": "code",
   "execution_count": null,
   "id": "6000aa84-431f-4c38-8b96-2396ec6341a0",
   "metadata": {},
   "outputs": [],
   "source": []
  }
 ],
 "metadata": {
  "kernelspec": {
   "display_name": "Python 3 (ipykernel)",
   "language": "python",
   "name": "python3"
  },
  "language_info": {
   "codemirror_mode": {
    "name": "ipython",
    "version": 3
   },
   "file_extension": ".py",
   "mimetype": "text/x-python",
   "name": "python",
   "nbconvert_exporter": "python",
   "pygments_lexer": "ipython3",
   "version": "3.12.4"
  }
 },
 "nbformat": 4,
 "nbformat_minor": 5
}
