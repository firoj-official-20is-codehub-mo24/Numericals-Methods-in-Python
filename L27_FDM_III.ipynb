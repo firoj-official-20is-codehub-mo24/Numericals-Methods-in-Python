{
 "cells": [
  {
   "cell_type": "code",
   "execution_count": 13,
   "id": "4297cf3c-2025-4b92-b610-d5b20a19e5b2",
   "metadata": {},
   "outputs": [
    {
     "name": "stdout",
     "output_type": "stream",
     "text": [
      "f'(0.1)=0.09344105099999833\n",
      "f\"(0.1)=-0.12932699999967934\n",
      "f_analytical'(0.1) - f'_approx(0.1)=0.09405000000000001 - 0.09344105099999833=0.0006089490000016767\n",
      "None\n",
      "f_analytical\"(0.1) - f\"_approx(0.1)=-0.118 - -0.12932699999967934=0.011326999999679344\n",
      "None\n"
     ]
    }
   ],
   "source": [
    "#Forward finite differences. Error: O(h) has more error\n",
    "f= lambda x: 0.1*x**5-0.2*x**3+0.1*x+0.2\n",
    "diff_f1= lambda x: 0.5*x**4 - 0.6*x**2 + 0.1\n",
    "diff_f2=lambda x: 2.0*x**3 - 1.2*x\n",
    "h=0.01\n",
    "x=0.1\n",
    "\n",
    "dff1=(f(x+h)-f(x))/h\n",
    "dff2=(f(x+2*h)-2*f(x+h)+f(x))/h**2\n",
    "#Comparing the values\n",
    "print(f\"f'(0.1)={dff1}\")\n",
    "print(f'f\"(0.1)={dff2}')\n",
    "print(print(f\"f_analytical'(0.1) - f'_approx(0.1)={diff_f1(0.1)} - {dff1}={diff_f1(0.1)-dff1}\"))\n",
    "print(print(f'f_analytical\"(0.1) - f\"_approx(0.1)={diff_f2(0.1)} - {dff2}={diff_f2(0.1)-dff2}'))"
   ]
  },
  {
   "cell_type": "code",
   "execution_count": 11,
   "id": "1f333db8-b062-4918-ac35-a6feb3df2bb7",
   "metadata": {},
   "outputs": [
    {
     "name": "stdout",
     "output_type": "stream",
     "text": [
      "f'(0.1) = 0.093575625\n",
      "f''(0.1) = -0.11774999999999422\n",
      "f_analytical'(0.1) - f'_approx(0.1) = 0.09405000000000001 - 0.093575625 = 0.000474375000000013\n",
      "f_analytical''(0.1) - f''_approx(0.1) = -0.118 - -0.11774999999999422 = -0.0002500000000057734\n"
     ]
    }
   ],
   "source": [
    "# Define the function and its analytical derivatives\n",
    "f = lambda x: 0.1*x**5 - 0.2*x**3 + 0.1*x + 0.2\n",
    "diff_f1 = lambda x: 0.5*x**4 - 0.6*x**2 + 0.1\n",
    "diff_f2 = lambda x: 2.0*x**3 - 1.2*x\n",
    "\n",
    "# Set the step size and point of evaluation\n",
    "h = 0.05\n",
    "x = 0.1\n",
    "\n",
    "# Compute the finite differences\n",
    "dff1 = (f(x + h) - f(x - h)) / (2 * h)  # Central difference for the first derivative\n",
    "dff2 = (f(x + h) - 2 * f(x) + f(x - h)) / h**2  # Central difference for the second derivative\n",
    "\n",
    "# Print the results\n",
    "print(f\"f'(0.1) = {dff1}\")\n",
    "print(f\"f''(0.1) = {dff2}\")\n",
    "print(f\"f_analytical'(0.1) - f'_approx(0.1) = {diff_f1(0.1)} - {dff1} = {diff_f1(0.1) - dff1}\")\n",
    "print(f\"f_analytical''(0.1) - f''_approx(0.1) = {diff_f2(0.1)} - {dff2} = {diff_f2(0.1) - dff2}\")\n"
   ]
  },
  {
   "cell_type": "code",
   "execution_count": 9,
   "id": "f70ea996-1d27-4964-b942-f032ba109f6a",
   "metadata": {},
   "outputs": [
    {
     "name": "stdout",
     "output_type": "stream",
     "text": [
      "f'(0.1) = 0.09651937499999985\n",
      "f''(0.1) = 5.673412499999996\n",
      "f_analytical'(0.1) - f'_approx(0.1) = 0.09405000000000001 - 0.09651937499999985 = -0.0024693749999998432\n",
      "f_analytical''(0.1) - f''_approx(0.1) = -0.118 - 5.673412499999996 = -5.791412499999996\n"
     ]
    }
   ],
   "source": [
    "#Backward finite differences. Error: O(h)\n",
    "f= lambda x: 0.1*x**5-0.2*x**3+0.1*x+0.2\n",
    "diff_f1= lambda x: 0.5*x**4 - 0.6*x**2 + 0.1\n",
    "diff_f2=lambda x: 2.0*x**3 - 1.2*x\n",
    "h=0.05\n",
    "x=0.1\n",
    "\n",
    "dff1=(f(x)-f(x-h))/h\n",
    "dff2=(f(x)-2*f(x-h)+f(x+h))/h**2\n",
    "#Comparing the values\n",
    "print(f\"f'(0.1) = {dff1}\")\n",
    "print(f\"f''(0.1) = {dff2}\")\n",
    "print(f\"f_analytical'(0.1) - f'_approx(0.1) = {diff_f1(0.1)} - {dff1} = {diff_f1(0.1) - dff1}\")\n",
    "print(f\"f_analytical''(0.1) - f''_approx(0.1) = {diff_f2(0.1)} - {dff2} = {diff_f2(0.1) - dff2}\")\n"
   ]
  },
  {
   "cell_type": "code",
   "execution_count": 7,
   "id": "c42a95b8-2f70-4899-bc3a-9fccf30680ec",
   "metadata": {},
   "outputs": [
    {
     "name": "stdout",
     "output_type": "stream",
     "text": [
      "f'(0.1) = 0.09651937499999985\n",
      "f''(0.1) = -0.059625000000007575\n",
      "f_analytical'(0.1) - f'_approx(0.1) = 0.09405000000000001 - 0.09651937499999985 = -0.0024693749999998432\n",
      "f_analytical''(0.1) - f''_approx(0.1) = -0.118 - -0.059625000000007575 = -0.05837499999999242\n"
     ]
    }
   ],
   "source": [
    "# Define the function and its analytical derivatives\n",
    "f = lambda x: 0.1*x**5 - 0.2*x**3 + 0.1*x + 0.2\n",
    "diff_f1 = lambda x: 0.5*x**4 - 0.6*x**2 + 0.1\n",
    "diff_f2 = lambda x: 2.0*x**3 - 1.2*x\n",
    "\n",
    "# Set the step size and point of evaluation\n",
    "h = 0.05\n",
    "x = 0.1\n",
    "\n",
    "# Compute the backward finite differences\n",
    "dff1 = (f(x) - f(x - h)) / h  # Backward difference for the first derivative\n",
    "dff2 = (f(x) - 2*f(x - h) + f(x - 2*h)) / h**2  # Backward difference for the second derivative\n",
    "\n",
    "# Print the results\n",
    "print(f\"f'(0.1) = {dff1}\")\n",
    "print(f\"f''(0.1) = {dff2}\")\n",
    "print(f\"f_analytical'(0.1) - f'_approx(0.1) = {diff_f1(0.1)} - {dff1} = {diff_f1(0.1) - dff1}\")\n",
    "print(f\"f_analytical''(0.1) - f''_approx(0.1) = {diff_f2(0.1)} - {dff2} = {diff_f2(0.1) - dff2}\")\n"
   ]
  },
  {
   "cell_type": "code",
   "execution_count": null,
   "id": "ddca61b7-1c32-4796-9500-6775917173ed",
   "metadata": {},
   "outputs": [],
   "source": []
  }
 ],
 "metadata": {
  "kernelspec": {
   "display_name": "Python 3 (ipykernel)",
   "language": "python",
   "name": "python3"
  },
  "language_info": {
   "codemirror_mode": {
    "name": "ipython",
    "version": 3
   },
   "file_extension": ".py",
   "mimetype": "text/x-python",
   "name": "python",
   "nbconvert_exporter": "python",
   "pygments_lexer": "ipython3",
   "version": "3.12.4"
  }
 },
 "nbformat": 4,
 "nbformat_minor": 5
}
