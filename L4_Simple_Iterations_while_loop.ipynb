{
 "cells": [
  {
   "cell_type": "code",
   "execution_count": 3,
   "id": "f01c2fe6-cd81-4e82-8b29-124a28b481ca",
   "metadata": {},
   "outputs": [],
   "source": [
    "import math as mt"
   ]
  },
  {
   "cell_type": "code",
   "execution_count": 45,
   "id": "c5d8bbac-4388-46c2-87ca-f32ff7237b10",
   "metadata": {},
   "outputs": [
    {
     "name": "stdout",
     "output_type": "stream",
     "text": [
      "0\n",
      "0.6\n",
      "0.744\n",
      "0.8214144000000001\n",
      "0.8698886466109441\n",
      "0.902682503001048\n",
      "0.925934280489695\n",
      "0.9429417167143876\n",
      "0.9556556324481106\n",
      "0.9653110751319194\n",
      "0.9727301887089368\n",
      "0.9784816080102896\n",
      "0.9829705028857608\n",
      "0.9864924038173942\n",
      "0.9892669051157682\n",
      "0.9914596038229322\n",
      "0.9931968584050903\n",
      "0.9945759998182965\n",
      "0.9956725677658256\n",
      "0.9965455448805571\n",
      "0.9972412092085147\n",
      "0.9977960117374642\n",
      "0.998238752415676\n",
      "0.998592242729762\n",
      "0.9988745868960223\n",
      "0.9991001761386796\n",
      "0.9992804647841362\n",
      "0.9994245789196798\n",
      "0.9995397955795117\n",
      "0.9996319211788528\n",
      "0.9997055911358897\n",
      "0.9997645075793435\n",
      "0.9998116282461469\n",
      "0.9998493167904845\n",
      "0.9998794625145594\n",
      "0.9999035758233618\n",
      "0.9999228643777383\n",
      "0.9999382938821523\n",
      "0.9999506366287798\n",
      "The root of x is 0.99995\n",
      "The number of iteration 40\n"
     ]
    }
   ],
   "source": [
    "x=5\n",
    "xnew=0 # arbitary number\n",
    "iterations=1\n",
    "while abs(xnew-x)>0.00001:\n",
    "    iterations+=1\n",
    "    x=xnew\n",
    "    xnew=(2*x**2+3)/5\n",
    "    #x=xnew this not right\n",
    "    print(x)\n",
    "print('The root of x is %0.5f' %x)\n",
    "print('The number of iteration', iterations)"
   ]
  },
  {
   "cell_type": "code",
   "execution_count": null,
   "id": "b415d557-963b-4abd-9916-ea8d9758c734",
   "metadata": {},
   "outputs": [],
   "source": []
  }
 ],
 "metadata": {
  "kernelspec": {
   "display_name": "Python 3 (ipykernel)",
   "language": "python",
   "name": "python3"
  },
  "language_info": {
   "codemirror_mode": {
    "name": "ipython",
    "version": 3
   },
   "file_extension": ".py",
   "mimetype": "text/x-python",
   "name": "python",
   "nbconvert_exporter": "python",
   "pygments_lexer": "ipython3",
   "version": "3.12.4"
  }
 },
 "nbformat": 4,
 "nbformat_minor": 5
}
