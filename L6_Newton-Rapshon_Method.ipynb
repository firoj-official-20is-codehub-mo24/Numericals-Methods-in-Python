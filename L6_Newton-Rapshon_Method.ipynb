{
 "cells": [
  {
   "cell_type": "markdown",
   "id": "62ef894f-0595-4cb0-b0f1-f298acf1c046",
   "metadata": {},
   "source": [
    "Newton-Raphson Method to find roots of higher degree equation"
   ]
  },
  {
   "cell_type": "code",
   "execution_count": 29,
   "id": "cc073949-2eae-450f-a2f5-7adca8e7b60c",
   "metadata": {},
   "outputs": [
    {
     "name": "stdout",
     "output_type": "stream",
     "text": [
      "0.6\n",
      "0.8769230769230768\n",
      "0.9796986518636004\n",
      "0.9992376199027553\n",
      "0.9999988410873017\n",
      "0.9999999999973136\n",
      "\n",
      "The roots: 1.00000\n",
      "\n",
      "The iteration: 7\n"
     ]
    }
   ],
   "source": [
    "x=0\n",
    "for iteration in range(1,101):\n",
    "    xnew=x-((2*x**2-5*x+3)/(4*x-5))\n",
    "    if abs(xnew-x)<0.000001:\n",
    "        break\n",
    "    x=xnew\n",
    "    print(x)\n",
    "print('\\nThe roots: %0.5f' %xnew)\n",
    "print('\\nThe iteration: %d' %iteration)          "
   ]
  },
  {
   "cell_type": "code",
   "execution_count": 31,
   "id": "6dcf5f49-1f8f-44c8-9f9c-1956fdd46125",
   "metadata": {},
   "outputs": [
    {
     "name": "stdout",
     "output_type": "stream",
     "text": [
      "1.6666666666666667\n",
      "1.5333333333333334\n",
      "1.5019607843137255\n",
      "1.5000076295109483\n",
      "1.5000000001164153\n",
      "\n",
      "The roots: 1.50000\n",
      "\n",
      "The iteration: 6\n"
     ]
    }
   ],
   "source": [
    "x=2\n",
    "for iteration in range(1,101):\n",
    "    xnew=x-((2*x**2-5*x+3)/(4*x-5))\n",
    "    if abs(xnew-x)<0.000001:\n",
    "        break\n",
    "    x=xnew\n",
    "    print(x)\n",
    "print('\\nThe roots: %0.5f' %xnew)\n",
    "print('\\nThe iteration: %d' %iteration)          "
   ]
  },
  {
   "cell_type": "code",
   "execution_count": 35,
   "id": "9972f659-40ad-41b5-9919-c84cad924609",
   "metadata": {},
   "outputs": [
    {
     "name": "stdout",
     "output_type": "stream",
     "text": [
      "0.6\n",
      "0.8769230769230768\n",
      "0.9796986518636004\n",
      "0.9992376199027553\n",
      "0.9999988410873017\n",
      "0.9999999999973136\n",
      "0.9999999999999999\n",
      "1.0000000000000002\n",
      "\n",
      "The roots: 1.00000\n",
      "\n",
      "The iteration: 9\n"
     ]
    }
   ],
   "source": [
    "x=0\n",
    "for iteration in range(1,101):\n",
    "    xnew=x-((2*x**2-5*x+3)/(4*x-5))\n",
    "    if xnew==x:\n",
    "        break\n",
    "    x=xnew\n",
    "    print(x)\n",
    "print('\\nThe roots: %0.5f' %xnew)\n",
    "print('\\nThe iteration: %d' %iteration)          "
   ]
  },
  {
   "cell_type": "code",
   "execution_count": 37,
   "id": "1f7a943f-f3e4-4c74-9e9f-a5d089e6b414",
   "metadata": {},
   "outputs": [
    {
     "name": "stdout",
     "output_type": "stream",
     "text": [
      "1.6666666666666667\n",
      "1.5333333333333334\n",
      "1.5019607843137255\n",
      "1.5000076295109483\n",
      "1.5000000001164153\n",
      "\n",
      "The roots: 1.50000\n",
      "\n",
      "The iteration: 6\n"
     ]
    }
   ],
   "source": [
    "x=2\n",
    "for iteration in range(1,101):\n",
    "    xnew=x-((2*x**2-5*x+3)/(4*x-5))\n",
    "    if abs(xnew-x)<0.000001:\n",
    "        break\n",
    "    x=xnew\n",
    "    print(x)\n",
    "print('\\nThe roots: %0.5f' %xnew)\n",
    "print('\\nThe iteration: %d' %iteration)          "
   ]
  },
  {
   "cell_type": "markdown",
   "id": "a9e97c7a-339e-49ea-9eac-7280ef9fbd42",
   "metadata": {},
   "source": [
    "f(x)=x2+cos2x-4x=0 using Newton-Rapshon method\n",
    "f'(x)=2x-2cosxsinx-4"
   ]
  },
  {
   "cell_type": "code",
   "execution_count": 41,
   "id": "a82fe5e1-3b24-42d2-9405-901ae63634a0",
   "metadata": {},
   "outputs": [],
   "source": [
    "from math import *"
   ]
  },
  {
   "cell_type": "code",
   "execution_count": 49,
   "id": "1e08054c-8251-4f60-97f9-1f3d94720bfe",
   "metadata": {},
   "outputs": [
    {
     "name": "stdout",
     "output_type": "stream",
     "text": [
      "0.25\n",
      "0.2503244892843602\n",
      "0.2503244925262645\n",
      "0.25032449252626454\n",
      "\n",
      "The roots: 0.25032\n",
      "\n",
      "The iteration: 5\n"
     ]
    }
   ],
   "source": [
    "x=0\n",
    "for iteration in range(1,101):\n",
    "    xnew=x-((x**2+cos(x)**2-4*x)/(2*(x-cos(x)*sin(x)-2)))\n",
    "    if xnew==x:\n",
    "        break\n",
    "    x=xnew\n",
    "    print(x)\n",
    "print('\\nThe roots: %0.5f' %xnew)\n",
    "print('\\nThe iteration: %d' %iteration)          "
   ]
  },
  {
   "cell_type": "code",
   "execution_count": null,
   "id": "7a617af0-ee0e-40b9-a727-d9d82377014d",
   "metadata": {},
   "outputs": [],
   "source": []
  }
 ],
 "metadata": {
  "kernelspec": {
   "display_name": "Python 3 (ipykernel)",
   "language": "python",
   "name": "python3"
  },
  "language_info": {
   "codemirror_mode": {
    "name": "ipython",
    "version": 3
   },
   "file_extension": ".py",
   "mimetype": "text/x-python",
   "name": "python",
   "nbconvert_exporter": "python",
   "pygments_lexer": "ipython3",
   "version": "3.12.4"
  }
 },
 "nbformat": 4,
 "nbformat_minor": 5
}
