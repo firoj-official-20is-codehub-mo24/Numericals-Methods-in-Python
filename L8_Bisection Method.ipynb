{
 "cells": [
  {
   "cell_type": "markdown",
   "id": "506aad94-ec0f-4ac7-a6d4-609abeea8e24",
   "metadata": {},
   "source": [
    "Bisection Method\n",
    "2X2-5X+3=0\n",
    "Y=2X2-5X+3=0"
   ]
  },
  {
   "cell_type": "code",
   "execution_count": 84,
   "id": "603f8f43-4ec7-4723-ab52-0f47b2bf8f5f",
   "metadata": {},
   "outputs": [
    {
     "name": "stdout",
     "output_type": "stream",
     "text": [
      "The roots: 1.00000 \n",
      "Number of bisection: 1 \n"
     ]
    }
   ],
   "source": [
    "#Udemy Suggestion\n",
    "x1=1  \n",
    "x2=2\n",
    "y1=2*x1**2-5*x1+3\n",
    "y2=2*x2**2-5*x2+3\n",
    "if y1*y2>0:\n",
    "    print(\"The root not within the given interval\")\n",
    "for bisection in range(1,101):\n",
    "    xh=(x1+x2)/2\n",
    "    yh=2*xh**2-5*xh+3\n",
    "    y1=2*x1**2-5*x1+3\n",
    "    if abs(y1)<0.000001:\n",
    "        break\n",
    "    elif y1*yh<0: #if the root is in the first half-interval\n",
    "        x2=xh\n",
    "    else:\n",
    "        x1=xh\n",
    "print(\"The roots: %0.5f \" %x1)\n",
    "print(\"Number of bisection: %d \" %bisection)\n",
    "    "
   ]
  },
  {
   "cell_type": "code",
   "execution_count": 86,
   "id": "6723cdd0-8a34-41dd-b033-c5cf0576a08b",
   "metadata": {},
   "outputs": [
    {
     "name": "stdout",
     "output_type": "stream",
     "text": [
      "y1 = 0, for x1=1, sign of y1: Zero\n",
      "y2 = 1, for x2=2, sign of y2: Positive\n",
      "The root: 1.50000\n",
      "Number of bisections: 1\n"
     ]
    }
   ],
   "source": [
    "# Define initial interval [x1, x2]\n",
    "x1 = 1\n",
    "x2 = 2\n",
    "\n",
    "# Define the function\n",
    "def func(x):\n",
    "    return 2*x**2 - 5*x + 3\n",
    "\n",
    "# Calculate y1 and y2\n",
    "y1 = func(x1)\n",
    "y2 = func(x2)\n",
    "\n",
    "# Print signs of y1 and y2\n",
    "print(f\"y1 = {y1}, for x1={x1}, sign of y1: {'Positive' if y1 > 0 else 'Negative' if y1 < 0 else 'Zero'}\")\n",
    "print(f\"y2 = {y2}, for x2={x2}, sign of y2: {'Positive' if y2 > 0 else 'Negative' if y2 < 0 else 'Zero'}\")\n",
    "\n",
    "# Check if the root is within the interval\n",
    "if y1 * y2 > 0:\n",
    "    print(\"The root is not within the given interval\")\n",
    "else:\n",
    "    # Bisection method\n",
    "    for bisection in range(1, 101):\n",
    "        xh = (x1 + x2) / 2\n",
    "        yh = func(xh)\n",
    "\n",
    "        # Check if the root is close enough\n",
    "        if abs(yh) < 0.000001:\n",
    "            break\n",
    "        elif y1 * yh < 0:  # Root is in the first half-interval\n",
    "            x2 = xh\n",
    "            y2 = yh  # Update y2 to reflect the new x2\n",
    "        else:\n",
    "            x1 = xh\n",
    "            y1 = yh  # Update y1 to reflect the new x1\n",
    "\n",
    "    # Output the results\n",
    "    print(\"The root: %0.5f\" % xh)\n",
    "    print(\"Number of bisections: %d\" % bisection)\n"
   ]
  },
  {
   "cell_type": "code",
   "execution_count": 78,
   "id": "064c7d62-3af1-4286-941c-12ba27cb5424",
   "metadata": {},
   "outputs": [
    {
     "name": "stdout",
     "output_type": "stream",
     "text": [
      "y1 = 0, sign of y1: Zero\n",
      "y2 = 0.120000000000001, sign of y2: Positive\n"
     ]
    },
    {
     "name": "stdin",
     "output_type": "stream",
     "text": [
      "Do you want to compute the solution? (y/Y for yes, n/N for no):  n\n"
     ]
    },
    {
     "name": "stdout",
     "output_type": "stream",
     "text": [
      "Computation canceled.\n"
     ]
    }
   ],
   "source": [
    "# Define initial interval [x1, x2]\n",
    "x1 = 1\n",
    "x2 = 1.6\n",
    "\n",
    "# Define the function\n",
    "def func(x):\n",
    "    return 2*x**2 - 5*x + 3\n",
    "\n",
    "# Calculate y1 and y2\n",
    "y1 = func(x1)\n",
    "y2 = func(x2)\n",
    "\n",
    "# Print signs of y1 and y2\n",
    "print(f\"y1 = {y1}, sign of y1: {'Positive' if y1 > 0 else 'Negative' if y1 < 0 else 'Zero'}\")\n",
    "print(f\"y2 = {y2}, sign of y2: {'Positive' if y2 > 0 else 'Negative' if y2 < 0 else 'Zero'}\")\n",
    "\n",
    "# Ask user whether to proceed with the computation\n",
    "user_input = input(\"Do you want to compute the solution? (y/Y for yes, n/N for no): \").strip().lower()\n",
    "\n",
    "if user_input in ['y', 'yes']:\n",
    "    # Check if the root is within the interval\n",
    "    if y1 * y2 > 0:\n",
    "        print(\"The root is not within the given interval\")\n",
    "    else:\n",
    "        # Bisection method\n",
    "        for bisection in range(1, 101):\n",
    "            xh = (x1 + x2) / 2\n",
    "            yh = func(xh)\n",
    "\n",
    "            # Check if the root is close enough\n",
    "            if abs(yh) < 0.000001:\n",
    "                break\n",
    "            elif y1 * yh < 0:  # Root is in the first half-interval\n",
    "                x2 = xh\n",
    "                y2 = yh  # Update y2 to reflect the new x2\n",
    "            else:\n",
    "                x1 = xh\n",
    "                y1 = yh  # Update y1 to reflect the new x1\n",
    "\n",
    "        # Output the results\n",
    "        print(\"The root: %0.5f\" % xh)\n",
    "        print(\"Number of bisections: %d\" % bisection)\n",
    "else:\n",
    "    print(\"Computation canceled.\")\n"
   ]
  },
  {
   "cell_type": "code",
   "execution_count": null,
   "id": "66763a7c-36fb-4754-9538-9185eba32cdb",
   "metadata": {},
   "outputs": [],
   "source": []
  }
 ],
 "metadata": {
  "kernelspec": {
   "display_name": "Python 3 (ipykernel)",
   "language": "python",
   "name": "python3"
  },
  "language_info": {
   "codemirror_mode": {
    "name": "ipython",
    "version": 3
   },
   "file_extension": ".py",
   "mimetype": "text/x-python",
   "name": "python",
   "nbconvert_exporter": "python",
   "pygments_lexer": "ipython3",
   "version": "3.12.4"
  }
 },
 "nbformat": 4,
 "nbformat_minor": 5
}
