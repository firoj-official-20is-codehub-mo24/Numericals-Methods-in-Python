{
 "cells": [
  {
   "cell_type": "code",
   "execution_count": 10,
   "id": "68291902-dee4-406f-85f0-4c8ae31ed481",
   "metadata": {},
   "outputs": [
    {
     "name": "stdin",
     "output_type": "stream",
     "text": [
      "Enter the value of x1: 0.2\n",
      "Enter the value of x2: 1.5\n"
     ]
    },
    {
     "name": "stdout",
     "output_type": "stream",
     "text": [
      "The root: 1.500000\n",
      "The number computed false position: 0\n"
     ]
    }
   ],
   "source": [
    "def rfalsi(fn,x1,x2,tol=0.001,limit=100):\n",
    "    y1=fn(x1)\n",
    "    y2=fn(x2)\n",
    "    xh=0\n",
    "    ipos=0\n",
    "    if y1==0: xh=x1\n",
    "    elif y2==0: xh=x2\n",
    "    elif y1*y2>0:\n",
    "        print(\"No roorts exists within the given interval\")\n",
    "    else:\n",
    "        for ipos in range(1,limit+1):\n",
    "            xh=x2-(x2-x1)/(y2-y1)*y2\n",
    "            yh=fn(xh)\n",
    "            if abs(yh)<tol:\n",
    "                break\n",
    "            elif y1*yh<0:\n",
    "                x2=xh\n",
    "                y2=yh\n",
    "    return xh, ipos\n",
    "\n",
    "def y(x): return 2*x**2-5*x+3\n",
    "\n",
    "x1=float(input(\"Enter the value of x1:\"))\n",
    "x2=float(input(\"Enter the value of x2:\"))\n",
    "\n",
    "x,n=rfalsi(y,x1,x2,0.000001)\n",
    "print(\"The root: %f\" %x)\n",
    "print(\"The number computed false position: %d\" %n)"
   ]
  },
  {
   "cell_type": "code",
   "execution_count": 50,
   "id": "3d52ce6e-0cc0-4dd2-891d-3ed1520c875d",
   "metadata": {},
   "outputs": [
    {
     "name": "stdin",
     "output_type": "stream",
     "text": [
      "Enter the value of x1:  0.1\n",
      "Enter the value of x2:  1.4\n"
     ]
    },
    {
     "name": "stdout",
     "output_type": "stream",
     "text": [
      "2.52\n",
      "-0.08000000000000052\n",
      "The root: 1.000001\n",
      "The number of computed false position iterations: 33\n"
     ]
    }
   ],
   "source": [
    "def rfalsi(fn, x1, x2, tol=0.00000001, limit=100):\n",
    "    y1 = fn(x1)\n",
    "    print(y1)\n",
    "    y2 = fn(x2)\n",
    "    print(y2)\n",
    "    xh = 0\n",
    "    ipos = 0\n",
    "    \n",
    "    if y1 == 0:  # x1 is a root\n",
    "        xh = x1\n",
    "    elif y2 == 0:  # x2 is a root\n",
    "        xh = x2\n",
    "    elif y1 * y2 > 0:  # No root in the interval\n",
    "        print(\"No roots exist within the given interval\")\n",
    "        return None, 0\n",
    "    else:\n",
    "        for ipos in range(1, limit + 1):\n",
    "            # Calculate the false position\n",
    "            xh = x2 - (x2 - x1) / (y2 - y1) * y2\n",
    "            yh = fn(xh)\n",
    "            \n",
    "            if abs(yh) < tol:  # Root found within tolerance\n",
    "                break\n",
    "            \n",
    "            if y1 * yh < 0:  # The root is in the first half of the interval\n",
    "                x2 = xh\n",
    "                y2 = yh\n",
    "            else:  # The root is in the second half of the interval\n",
    "                x1 = xh\n",
    "                y1 = yh\n",
    "    \n",
    "    return xh, ipos\n",
    "\n",
    "# function definition\n",
    "def fn(x):\n",
    "    return 2*x**2 - 5*x + 3\n",
    "\n",
    "# Input values\n",
    "x1 = float(input(\"Enter the value of x1: \"))\n",
    "x2 = float(input(\"Enter the value of x2: \"))\n",
    "\n",
    "# Running the false position method\n",
    "x, n = rfalsi(y, x1, x2, tol=0.000001)\n",
    "if x is not None:\n",
    "    print(\"The root: %f\" % x)\n",
    "    print(\"The number of computed false position iterations: %d\" % n)"
   ]
  },
  {
   "cell_type": "code",
   "execution_count": 44,
   "id": "201748e6-1bbe-4f0f-a4ab-e9f1e0fb3eab",
   "metadata": {},
   "outputs": [
    {
     "data": {
      "text/plain": [
       "28"
      ]
     },
     "execution_count": 44,
     "metadata": {},
     "output_type": "execute_result"
    }
   ],
   "source": [
    "def y(x):\n",
    "    return 2*x**2 - 5*x + 3\n",
    "y(5)"
   ]
  },
  {
   "cell_type": "code",
   "execution_count": 26,
   "id": "212d48ae-c80a-4bb3-9430-61c9086da43f",
   "metadata": {},
   "outputs": [
    {
     "name": "stdin",
     "output_type": "stream",
     "text": [
      "Enter the value of x1:  5\n",
      "Enter the value of x2:  5\n"
     ]
    }
   ],
   "source": [
    "def y(x):\n",
    "    return 2*x**2 - 5*x + 3\n",
    "\n",
    "# Input values\n",
    "x1 = float(input(\"Enter the value of x1: \"))\n",
    "x2 = float(input(\"Enter the value of x2: \"))"
   ]
  },
  {
   "cell_type": "code",
   "execution_count": 52,
   "id": "4bc95e70-b18a-41bb-9220-34753783960a",
   "metadata": {},
   "outputs": [
    {
     "name": "stdin",
     "output_type": "stream",
     "text": [
      "Enter the value of x1:  0.2\n",
      "Enter the value of x2:  1.4\n"
     ]
    },
    {
     "name": "stdout",
     "output_type": "stream",
     "text": [
      "The root: 1.000001\n",
      "The number of computed false position iterations: 30\n"
     ]
    }
   ],
   "source": [
    "# Input values for the interval\n",
    "x1 = float(input(\"Enter the value of x1: \"))\n",
    "x2 = float(input(\"Enter the value of x2: \"))\n",
    "\n",
    "# Tolerance and maximum number of iterations\n",
    "tol = 0.000001\n",
    "limit = 100\n",
    "\n",
    "# Compute the function values at the initial points\n",
    "y1 = 2*x1**2 - 5*x1 + 3\n",
    "y2 = 2*x2**2 - 5*x2 + 3\n",
    "\n",
    "# Initialize variables\n",
    "xh = 0  # This will hold the root estimate\n",
    "ipos = 0  # This will count the number of iterations\n",
    "\n",
    "# Check if any of the endpoints is already a root\n",
    "if y1 == 0:\n",
    "    xh = x1\n",
    "elif y2 == 0:\n",
    "    xh = x2\n",
    "elif y1 * y2 > 0:  # Check if there is no root in the interval\n",
    "    print(\"No roots exist within the given interval\")\n",
    "else:\n",
    "    # Iteratively apply the False Position method\n",
    "    for ipos in range(1, limit + 1):\n",
    "        # Calculate the false position estimate\n",
    "        xh = x2 - (x2 - x1) / (y2 - y1) * y2\n",
    "        \n",
    "        # Compute the function value at xh\n",
    "        yh = 2*xh**2 - 5*xh + 3\n",
    "        \n",
    "        # Check if the result is within the tolerance\n",
    "        if abs(yh) < tol:\n",
    "            break\n",
    "        \n",
    "        # Update the interval\n",
    "        if y1 * yh < 0:  # Root is in the left subinterval\n",
    "            x2 = xh\n",
    "            y2 = yh\n",
    "        else:  # Root is in the right subinterval\n",
    "            x1 = xh\n",
    "            y1 = yh\n",
    "\n",
    "# Output the result\n",
    "if y1 * y2 <= 0:  # Ensure that a root was found\n",
    "    print(\"The root: %f\" % xh)\n",
    "    print(\"The number of computed false position iterations: %d\" % ipos)\n"
   ]
  },
  {
   "cell_type": "code",
   "execution_count": null,
   "id": "957c17ee-dc6c-42c3-b1cf-c793a2b51468",
   "metadata": {},
   "outputs": [],
   "source": []
  }
 ],
 "metadata": {
  "kernelspec": {
   "display_name": "Python 3 (ipykernel)",
   "language": "python",
   "name": "python3"
  },
  "language_info": {
   "codemirror_mode": {
    "name": "ipython",
    "version": 3
   },
   "file_extension": ".py",
   "mimetype": "text/x-python",
   "name": "python",
   "nbconvert_exporter": "python",
   "pygments_lexer": "ipython3",
   "version": "3.12.4"
  }
 },
 "nbformat": 4,
 "nbformat_minor": 5
}
