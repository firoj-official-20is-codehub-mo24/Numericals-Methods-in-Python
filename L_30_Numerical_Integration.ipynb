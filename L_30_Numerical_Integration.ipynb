{
 "cells": [
  {
   "cell_type": "code",
   "execution_count": 42,
   "id": "4c1db29a-e513-4fce-b59f-8536d97b6b76",
   "metadata": {},
   "outputs": [
    {
     "name": "stdout",
     "output_type": "stream",
     "text": [
      "Integral: 1.0000205619295075\n"
     ]
    }
   ],
   "source": [
    "#Trapezoidal Rule\n",
    "from math import sin, pi\n",
    "\n",
    "# Define the function to integrate\n",
    "f = lambda x: x * sin(x)\n",
    "\n",
    "# Define the integration limits\n",
    "a = 0\n",
    "b = pi / 2\n",
    "\n",
    "# Number of subintervals\n",
    "n = 100\n",
    "\n",
    "# Width of each subinterval\n",
    "h = (b - a) / n\n",
    "\n",
    "# Compute the integral using the Trapezoidal Rule\n",
    "I = 0.5 * (f(a) + f(b)) * h\n",
    "for i in range(1, n):\n",
    "    I += f(a + i * h) * h\n",
    "\n",
    "print(\"Integral:\", I)\n"
   ]
  },
  {
   "cell_type": "code",
   "execution_count": 38,
   "id": "c8e67ee0-dcb6-4a98-b44b-edf91b2ba501",
   "metadata": {},
   "outputs": [
    {
     "name": "stdout",
     "output_type": "stream",
     "text": [
      "The integral of x*sin(x) from 0 to π/2 is approximately: 0.9999898033639686\n"
     ]
    }
   ],
   "source": [
    "#Simpson 1/3 rule\n",
    "import numpy as np\n",
    "\n",
    "def simpson_13_rule(f, a, b, n):\n",
    "    \"\"\"\n",
    "    Approximate the integral of f(x) from a to b using Simpson's 1/3 rule with n subintervals.\n",
    "\n",
    "    Parameters:\n",
    "    f: function\n",
    "        The function to integrate.\n",
    "    a: float\n",
    "        The lower limit of integration.\n",
    "    b: float\n",
    "        The upper limit of integration.\n",
    "    n: int\n",
    "        The number of subintervals (must be even).\n",
    "\n",
    "    Returns:\n",
    "    float\n",
    "        The approximate integral of f from a to b.\n",
    "    \"\"\"\n",
    "    if n % 2 != 0:\n",
    "        raise ValueError(\"Number of subintervals (n) must be even.\")\n",
    "    \n",
    "    # Compute the width of each subinterval\n",
    "    h = (b - a) / n\n",
    "    \n",
    "    # Compute the sum for Simpson's 1/3 rule\n",
    "    integral = f(a) + f(b)\n",
    "    for i in range(1, n, 2):\n",
    "        integral += 4 * f(a + i * h)\n",
    "    for i in range(2, n, 2):\n",
    "        integral += 2 * f(a + i * h)\n",
    "    \n",
    "    integral *= h / 3\n",
    "    return integral\n",
    "\n",
    "# Example usage\n",
    "def integrand(x):\n",
    "    return x * np.sin(x)  # Example function\n",
    "\n",
    "a = 0\n",
    "b = np.pi / 2\n",
    "n = 10  # Number of subintervals (must be even)\n",
    "\n",
    "result = simpson_13_rule(integrand, a, b, n)\n",
    "print(f\"The integral of x*sin(x) from 0 to π/2 is approximately: {result}\")\n"
   ]
  },
  {
   "cell_type": "code",
   "execution_count": 44,
   "id": "1434931e-b73d-4206-8e24-fba173602a65",
   "metadata": {},
   "outputs": [
    {
     "name": "stdout",
     "output_type": "stream",
     "text": [
      "Approximate integral: 0.40277777777777773\n"
     ]
    }
   ],
   "source": [
    "#Simpson 3/8 rule\n",
    "import numpy as np\n",
    "\n",
    "def simmons_38_rule(f, a, b, n):\n",
    "    \"\"\"\n",
    "    Apply Simmons' 3/8 rule to approximate the integral of f from a to b.\n",
    "    \n",
    "    Parameters:\n",
    "    f : function\n",
    "        The integrand function.\n",
    "    a : float\n",
    "        The lower limit of integration.\n",
    "    b : float\n",
    "        The upper limit of integration.\n",
    "    n : int\n",
    "        Number of subintervals (should be a multiple of 3).\n",
    "        \n",
    "    Returns:\n",
    "    float\n",
    "        The approximate value of the integral.\n",
    "    \"\"\"\n",
    "    if n % 3 != 0:\n",
    "        raise ValueError(\"Number of subintervals n must be a multiple of 3.\")\n",
    "    \n",
    "    h = (b - a) / n\n",
    "    integral = f(a) + f(b)\n",
    "    \n",
    "    for i in range(1, n, 3):\n",
    "        integral += 3 * (f(a + i * h) + f(a + (i + 1) * h))\n",
    "    \n",
    "    for i in range(2, n, 3):\n",
    "        integral += 2 * f(a + i * h)\n",
    "    \n",
    "    integral *= 3 * h / 8\n",
    "    \n",
    "    return integral\n",
    "\n",
    "# Example usage\n",
    "if __name__ == \"__main__\":\n",
    "    # Define the function to integrate\n",
    "    def f(x):\n",
    "        return x**2  # Example function\n",
    "    \n",
    "    # Integration limits and number of subintervals\n",
    "    a = 0\n",
    "    b = 1\n",
    "    n = 6  # Should be a multiple of 3\n",
    "    \n",
    "    result = simmons_38_rule(f, a, b, n)\n",
    "    print(\"Approximate integral:\", result)\n"
   ]
  },
  {
   "cell_type": "code",
   "execution_count": null,
   "id": "142e58b6-b9aa-4210-b0e8-db8ddc5a09dc",
   "metadata": {},
   "outputs": [],
   "source": []
  }
 ],
 "metadata": {
  "kernelspec": {
   "display_name": "Python 3 (ipykernel)",
   "language": "python",
   "name": "python3"
  },
  "language_info": {
   "codemirror_mode": {
    "name": "ipython",
    "version": 3
   },
   "file_extension": ".py",
   "mimetype": "text/x-python",
   "name": "python",
   "nbconvert_exporter": "python",
   "pygments_lexer": "ipython3",
   "version": "3.12.4"
  }
 },
 "nbformat": 4,
 "nbformat_minor": 5
}
