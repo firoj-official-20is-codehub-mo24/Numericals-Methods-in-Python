{
 "cells": [
  {
   "cell_type": "markdown",
   "id": "d24a9fd2-a6a6-4c8a-9bdc-e62ee68fc28d",
   "metadata": {},
   "source": [
    "Roots of higher degree equation - simple iterations method, acessing library, its function, its sub modules"
   ]
  },
  {
   "cell_type": "code",
   "execution_count": 2,
   "id": "afc9dd43-f609-4db4-9f78-4ebc7a35d970",
   "metadata": {},
   "outputs": [],
   "source": [
    " #2X2-5X+3=0"
   ]
  },
  {
   "cell_type": "code",
   "execution_count": 6,
   "id": "0a91e6bd-0603-43a5-9eca-4e7af8900be1",
   "metadata": {},
   "outputs": [
    {
     "data": {
      "text/plain": [
       "10"
      ]
     },
     "execution_count": 6,
     "metadata": {},
     "output_type": "execute_result"
    }
   ],
   "source": [
    "a=5\n",
    "2*a"
   ]
  },
  {
   "cell_type": "code",
   "execution_count": 38,
   "id": "34fd77f8-14d9-42c3-bfa5-b4f4089d9a70",
   "metadata": {},
   "outputs": [
    {
     "name": "stdout",
     "output_type": "stream",
     "text": [
      "0.6\n",
      "0.744\n",
      "0.8214144000000001\n",
      "0.8698886466109441\n",
      "0.902682503001048\n",
      "0.925934280489695\n",
      "0.9429417167143876\n",
      "0.9556556324481106\n",
      "0.9653110751319194\n",
      "0.9727301887089368\n",
      "0.9784816080102896\n",
      "0.9829705028857608\n",
      "0.9864924038173942\n",
      "0.9892669051157682\n",
      "0.9914596038229322\n",
      "0.9931968584050903\n",
      "0.9945759998182965\n",
      "0.9956725677658256\n",
      "0.9965455448805571\n",
      "0.9972412092085147\n",
      "0.9977960117374642\n",
      "0.998238752415676\n",
      "0.998592242729762\n",
      "0.9988745868960223\n",
      "0.9991001761386796\n",
      "0.9992804647841362\n",
      "0.9994245789196798\n",
      "0.9995397955795117\n",
      "0.9996319211788528\n",
      "0.9997055911358897\n",
      "0.9997645075793435\n",
      "0.9998116282461469\n",
      "0.9998493167904845\n",
      "0.9998794625145594\n",
      "0.9999035758233618\n",
      "0.9999228643777383\n",
      "0.9999382938821523\n",
      "0.9999506366287798\n",
      "0.9999605102777208\n",
      "0.999968408845952\n",
      "0.999974727475962\n",
      "0.99997978223625\n",
      "0.9999838259525031\n",
      "0.9999870608666424\n",
      "0.9999896487602824\n",
      "0.9999917190510852\n",
      "0.9999933752682978\n",
      "0.9999947002321932\n",
      "0.9999957601969897\n",
      "0.9999966081647822\n",
      "0.9999972865364276\n",
      "0.9999978292320872\n",
      "0.9999982633875547\n",
      "0.9999986107112502\n",
      "0.9999988885697721\n",
      "0.9999991108563119\n",
      "0.9999992886853658\n",
      "0.9999994309484951\n",
      "0.9999995447589256\n",
      "0.9999996358072234\n",
      "0.9999997086458319\n",
      "0.9999997669166995\n",
      "0.9999998135333813\n",
      "0.9999998508267189\n",
      "0.999999880661384\n",
      "0.999999904529113\n",
      "0.9999999236232942\n",
      "0.9999999388986376\n",
      "0.9999999511189117\n",
      "0.9999999608951302\n",
      "0.9999999687161047\n",
      "0.9999999749728842\n",
      "0.9999999799783076\n",
      "0.9999999839826461\n",
      "0.999999987186117\n",
      "0.9999999897488937\n",
      "0.999999991799115\n",
      "0.9999999934392921\n",
      "0.9999999947514336\n",
      "0.9999999958011468\n",
      "0.9999999966409174\n",
      "0.9999999973127339\n",
      "0.9999999978501872\n",
      "0.9999999982801497\n",
      "0.9999999986241198\n",
      "0.9999999988992958\n",
      "0.9999999991194366\n",
      "0.9999999992955493\n",
      "0.9999999994364395\n",
      "0.9999999995491515\n",
      "0.9999999996393212\n",
      "0.9999999997114569\n",
      "0.9999999997691656\n",
      "0.9999999998153324\n",
      "0.999999999852266\n",
      "0.9999999998818128\n",
      "0.9999999999054502\n",
      "0.9999999999243603\n",
      "0.9999999999394882\n",
      "0.9999999999515905\n",
      "\n",
      "Solution of the equation: 0.9999999999515905\n"
     ]
    }
   ],
   "source": [
    "x=0\n",
    "for i in range(100):\n",
    "    xnew=(2*x**2+3)/5\n",
    "    if xnew==x:\n",
    "        break\n",
    "    x=xnew\n",
    "    print(x)\n",
    "print('\\nSolution of the equation:',x)"
   ]
  },
  {
   "cell_type": "code",
   "execution_count": 51,
   "id": "899a99cb-38db-4e0a-b02c-d5ff5dc80fb1",
   "metadata": {},
   "outputs": [
    {
     "name": "stdout",
     "output_type": "stream",
     "text": [
      "\n",
      "Solution of the equation: 0.9999999999999997\n"
     ]
    }
   ],
   "source": [
    "x=0\n",
    "for i in range(1000):\n",
    "    xnew=(2*x**2+3)/5\n",
    "    if xnew==x:\n",
    "        break\n",
    "    x=xnew\n",
    "    #print(x)\n",
    "print('\\nSolution of the equation:',x)"
   ]
  },
  {
   "cell_type": "markdown",
   "id": "8543a21f-fabb-4c80-85b9-ae5df7a9a034",
   "metadata": {},
   "source": [
    "Degree of Accuracy is the difference between the xn+1 and xn\n",
    "Absolute maximum difference"
   ]
  },
  {
   "cell_type": "code",
   "execution_count": 57,
   "id": "e260a99e-5fe5-4f0d-92de-2320d6e904dd",
   "metadata": {},
   "outputs": [
    {
     "name": "stdout",
     "output_type": "stream",
     "text": [
      "0.6\n",
      "0.744\n",
      "0.8214144000000001\n",
      "0.8698886466109441\n",
      "0.902682503001048\n",
      "0.925934280489695\n",
      "0.9429417167143876\n",
      "0.9556556324481106\n",
      "0.9653110751319194\n",
      "0.9727301887089368\n",
      "0.9784816080102896\n",
      "0.9829705028857608\n",
      "0.9864924038173942\n",
      "0.9892669051157682\n",
      "0.9914596038229322\n",
      "0.9931968584050903\n",
      "0.9945759998182965\n",
      "0.9956725677658256\n",
      "0.9965455448805571\n",
      "0.9972412092085147\n",
      "0.9977960117374642\n",
      "0.998238752415676\n",
      "0.998592242729762\n",
      "0.9988745868960223\n",
      "0.9991001761386796\n",
      "0.9992804647841362\n",
      "0.9994245789196798\n",
      "0.9995397955795117\n",
      "0.9996319211788528\n",
      "0.9997055911358897\n",
      "0.9997645075793435\n",
      "0.9998116282461469\n",
      "0.9998493167904845\n",
      "0.9998794625145594\n",
      "0.9999035758233618\n",
      "0.9999228643777383\n",
      "0.9999382938821523\n",
      "0.9999506366287798\n",
      "0.9999605102777208\n",
      "0.999968408845952\n",
      "0.999974727475962\n",
      "0.99997978223625\n",
      "0.9999838259525031\n",
      "0.9999870608666424\n",
      "0.9999896487602824\n",
      "0.9999917190510852\n",
      "0.9999933752682978\n",
      "0.9999947002321932\n",
      "0.9999957601969897\n",
      "0.9999966081647822\n",
      "0.9999972865364276\n",
      "0.9999978292320872\n",
      "0.9999982633875547\n",
      "0.9999986107112502\n",
      "0.9999988885697721\n",
      "0.9999991108563119\n",
      "0.9999992886853658\n",
      "0.9999994309484951\n",
      "0.9999995447589256\n",
      "0.9999996358072234\n",
      "0.9999997086458319\n",
      "0.9999997669166995\n",
      "0.9999998135333813\n",
      "0.9999998508267189\n",
      "0.999999880661384\n",
      "0.999999904529113\n",
      "0.9999999236232942\n",
      "0.9999999388986376\n",
      "0.9999999511189117\n",
      "0.9999999608951302\n",
      "0.9999999687161047\n",
      "0.9999999749728842\n",
      "0.9999999799783076\n",
      "0.9999999839826461\n",
      "0.999999987186117\n",
      "0.9999999897488937\n",
      "0.999999991799115\n",
      "0.9999999934392921\n",
      "0.9999999947514336\n",
      "0.9999999958011468\n",
      "0.9999999966409174\n",
      "0.9999999973127339\n",
      "0.9999999978501872\n",
      "0.9999999982801497\n",
      "0.9999999986241198\n",
      "0.9999999988992958\n",
      "0.9999999991194366\n",
      "0.9999999992955493\n",
      "0.9999999994364395\n",
      "0.9999999995491515\n",
      "\n",
      "Solution of the equation: 0.9999999995491515\n"
     ]
    }
   ],
   "source": [
    "x=0\n",
    "for i in range(1000):\n",
    "    xnew=(2*x**2+3)/5\n",
    "    if xnew-x<0.0000001:\n",
    "        break\n",
    "    x=xnew\n",
    "    #print(x)\n",
    "print('\\nSolution of the equation:',x)"
   ]
  },
  {
   "cell_type": "code",
   "execution_count": 90,
   "id": "a602e640-94da-4778-bde2-6d5a3c7c59de",
   "metadata": {},
   "outputs": [
    {
     "name": "stdout",
     "output_type": "stream",
     "text": [
      "\n",
      "Solution of the equation: 0.9999999999999997\n",
      "The solution upto 3rd decimal point 1.00000\n"
     ]
    }
   ],
   "source": [
    "x=0\n",
    "for i in range(1000):\n",
    "    xnew=(2*x**2+3)/5\n",
    "    if xnew==x:\n",
    "        break\n",
    "    x=xnew\n",
    "    #print(x)\n",
    "print('\\nSolution of the equation:',x)\n",
    "print('The solution upto 3rd decimal point %.5f' % x)"
   ]
  },
  {
   "cell_type": "code",
   "execution_count": 78,
   "id": "2e6dc011-422f-4a7d-b109-cafd4586ee32",
   "metadata": {},
   "outputs": [
    {
     "name": "stdout",
     "output_type": "stream",
     "text": [
      "\n",
      "Solution of the equation: 0.9999999999999997\n",
      "The solution up to 3rd decimal point: 1.000\n"
     ]
    }
   ],
   "source": [
    "x = 0\n",
    "for i in range(1000):\n",
    "    xnew = (2 * x**2 + 3) / 5\n",
    "    if xnew == x:\n",
    "        break\n",
    "    x = xnew\n",
    "    #print(x)\n",
    "\n",
    "print('\\nSolution of the equation:', x)\n",
    "print('The solution up to 3rd decimal point: %.3f' % x)\n"
   ]
  },
  {
   "cell_type": "code",
   "execution_count": 92,
   "id": "cbaee5d7-7cda-43e3-b437-208e1960d036",
   "metadata": {},
   "outputs": [
    {
     "name": "stdout",
     "output_type": "stream",
     "text": [
      "\n",
      "Solution of the equation: 0.9999999999999997\n",
      "The solution up to 3rd decimal point: 0.999999999999999666933092612453\n"
     ]
    }
   ],
   "source": [
    "x = 0\n",
    "for i in range(1000):\n",
    "    xnew = (2 * x**2 + 3) / 5\n",
    "    if xnew == x:\n",
    "        break\n",
    "    x = xnew\n",
    "    #print(x)\n",
    "\n",
    "print('\\nSolution of the equation:', x)\n",
    "print('The solution up to 3rd decimal point: %.30f' % x)\n"
   ]
  },
  {
   "cell_type": "code",
   "execution_count": 123,
   "id": "139e68aa-90fb-4c36-9bb3-a582f312c209",
   "metadata": {},
   "outputs": [
    {
     "name": "stdout",
     "output_type": "stream",
     "text": [
      "\n",
      "Solution of the equation: 1\n",
      "The solution up to 3rd decimal point: 1.000\n"
     ]
    }
   ],
   "source": [
    "#For another roots, we change the initial guess\n",
    "x = 0\n",
    "for i in range(1000):\n",
    "    xnew = (2 * x**2 + 3) / 5\n",
    "    if xnew == x:\n",
    "        break\n",
    "    x = xnew\n",
    "    #print(x)\n",
    "\n",
    "print('\\nSolution of the equation:', x)\n",
    "print('The solution up to 3rd decimal point: %.3f' % x)\n"
   ]
  },
  {
   "cell_type": "code",
   "execution_count": 145,
   "id": "2c0af892-83ec-454b-b1c7-876ae967c381",
   "metadata": {},
   "outputs": [],
   "source": [
    "from math import sqrt"
   ]
  },
  {
   "cell_type": "code",
   "execution_count": 149,
   "id": "db869b67-2216-418e-81e6-eb281ab49186",
   "metadata": {},
   "outputs": [
    {
     "name": "stdout",
     "output_type": "stream",
     "text": [
      "\n",
      "Solution of the equation: 1.5000000000000007\n",
      "The solution up to 3rd decimal point: 1.500\n"
     ]
    }
   ],
   "source": [
    "#For another roots, we change the initial guess\n",
    "x = 2\n",
    "for i in range(1000):\n",
    "    #xnew = (2 * x**2 + 3) / 5\n",
    "    xnew=sqrt((5*x-3)/2)\n",
    "    if xnew == x:\n",
    "        break\n",
    "    x = xnew\n",
    "    #print(x)\n",
    "\n",
    "print('\\nSolution of the equation:', x)\n",
    "print('The solution up to 3rd decimal point: %.3f' % x)\n"
   ]
  },
  {
   "cell_type": "code",
   "execution_count": 151,
   "id": "fa27daf1-6812-4681-8dc1-f617d8324011",
   "metadata": {},
   "outputs": [],
   "source": [
    "import math "
   ]
  },
  {
   "cell_type": "code",
   "execution_count": 155,
   "id": "87e30d60-f9bf-471f-857f-fc62e729fd7d",
   "metadata": {},
   "outputs": [
    {
     "name": "stdout",
     "output_type": "stream",
     "text": [
      "['__doc__', '__loader__', '__name__', '__package__', '__spec__', 'acos', 'acosh', 'asin', 'asinh', 'atan', 'atan2', 'atanh', 'cbrt', 'ceil', 'comb', 'copysign', 'cos', 'cosh', 'degrees', 'dist', 'e', 'erf', 'erfc', 'exp', 'exp2', 'expm1', 'fabs', 'factorial', 'floor', 'fmod', 'frexp', 'fsum', 'gamma', 'gcd', 'hypot', 'inf', 'isclose', 'isfinite', 'isinf', 'isnan', 'isqrt', 'lcm', 'ldexp', 'lgamma', 'log', 'log10', 'log1p', 'log2', 'modf', 'nan', 'nextafter', 'perm', 'pi', 'pow', 'prod', 'radians', 'remainder', 'sin', 'sinh', 'sqrt', 'sumprod', 'tan', 'tanh', 'tau', 'trunc', 'ulp']\n"
     ]
    }
   ],
   "source": [
    "print(dir(math))"
   ]
  },
  {
   "cell_type": "code",
   "execution_count": 157,
   "id": "d1e7fd3f-034f-40e5-a909-cdabb9095057",
   "metadata": {},
   "outputs": [
    {
     "name": "stdout",
     "output_type": "stream",
     "text": [
      "['__doc__', '__loader__', '__name__', '__package__', '__spec__', 'acos', 'acosh', 'asin', 'asinh', 'atan', 'atan2', 'atanh', 'cbrt', 'ceil', 'comb', 'copysign', 'cos', 'cosh', 'degrees', 'dist', 'e', 'erf', 'erfc', 'exp', 'exp2', 'expm1', 'fabs', 'factorial', 'floor', 'fmod', 'frexp', 'fsum', 'gamma', 'gcd', 'hypot', 'inf', 'isclose', 'isfinite', 'isinf', 'isnan', 'isqrt', 'lcm', 'ldexp', 'lgamma', 'log', 'log10', 'log1p', 'log2', 'modf', 'nan', 'nextafter', 'perm', 'pi', 'pow', 'prod', 'radians', 'remainder', 'sin', 'sinh', 'sqrt', 'sumprod', 'tan', 'tanh', 'tau', 'trunc', 'ulp']\n"
     ]
    }
   ],
   "source": [
    "import math as mt\n",
    "print(dir(mt))"
   ]
  },
  {
   "cell_type": "code",
   "execution_count": 163,
   "id": "05049d4b-36a5-4136-9262-322b80430801",
   "metadata": {},
   "outputs": [
    {
     "name": "stdout",
     "output_type": "stream",
     "text": [
      "0.8939966636005579\n"
     ]
    }
   ],
   "source": [
    "a=mt.sin(90)\n",
    "print(a)"
   ]
  },
  {
   "cell_type": "code",
   "execution_count": 169,
   "id": "803f690f-0b87-49ac-8044-a84b80be7548",
   "metadata": {},
   "outputs": [
    {
     "name": "stdout",
     "output_type": "stream",
     "text": [
      "\n",
      "Solution of the equation: 1.5000000000000007\n",
      "The solution up to 3rd decimal point: 1.500\n"
     ]
    }
   ],
   "source": [
    "#For another roots, we change the initial guess\n",
    "x = 2\n",
    "for i in range(1000):\n",
    "    #xnew = (2 * x**2 + 3) / 5\n",
    "    xnew=mt.sqrt((5*x-3)/2)\n",
    "    if xnew == x:\n",
    "        break\n",
    "    x = xnew\n",
    "    #print(x)\n",
    "\n",
    "print('\\nSolution of the equation:', x)\n",
    "print('The solution up to 3rd decimal point: %.3f' % x)\n"
   ]
  },
  {
   "cell_type": "code",
   "execution_count": 173,
   "id": "165a1dbc-c887-424c-8783-e7d76724d1e1",
   "metadata": {},
   "outputs": [],
   "source": [
    "from math import sqrt as sq"
   ]
  },
  {
   "cell_type": "code",
   "execution_count": 181,
   "id": "8d977b57-f408-47fb-9af8-7430ac727ae8",
   "metadata": {},
   "outputs": [
    {
     "name": "stdout",
     "output_type": "stream",
     "text": [
      "['ExecutableNotFoundError', 'MatplotlibDeprecationWarning', 'MutableMapping', 'Parameter', 'Path', 'RcParams', '_ExecInfo', '_VersionInfo', '__all__', '__bibtex__', '__builtins__', '__cached__', '__doc__', '__file__', '__getattr__', '__loader__', '__name__', '__package__', '__path__', '__spec__', '_add_data_doc', '_api', '_c_internal_utils', '_check_versions', '_cm', '_cm_listed', '_color_data', '_deprecated_ignore_map', '_deprecated_map', '_deprecated_remain_as_none', '_docstring', '_ensure_handler', '_enums', '_fontconfig_pattern', '_get_config_or_cache_dir', '_get_executable_info', '_get_ssl_context', '_get_version', '_get_xdg_cache_dir', '_get_xdg_config_dir', '_init_tests', '_label_from_arg', '_log', '_logged_cached', '_open_file_or_url', '_parse_to_version_info', '_path', '_preprocess_data', '_rc_params_in_file', '_replacer', '_val_or_rc', '_version', 'atexit', 'bezier', 'cbook', 'cm', 'color_sequences', 'colormaps', 'colors', 'contextlib', 'cycler', 'defaultParams', 'ft2font', 'functools', 'get_backend', 'get_cachedir', 'get_configdir', 'get_data_path', 'importlib', 'inspect', 'interactive', 'is_interactive', 'locale', 'logging', 'matplotlib_fname', 'namedtuple', 'numpy', 'os', 'parse_version', 'path', 'pprint', 'rc', 'rcParams', 'rcParamsDefault', 'rcParamsOrig', 'rc_context', 'rc_file', 'rc_file_defaults', 'rc_params', 'rc_params_from_file', 'rcdefaults', 'rcsetup', 're', 'sanitize_sequence', 'scale', 'set_loglevel', 'shutil', 'subprocess', 'sys', 'tempfile', 'ticker', 'transforms', 'use', 'validate_backend', 'warnings']\n"
     ]
    }
   ],
   "source": [
    "import matplotlib\n",
    "print(dir(matplotlib))"
   ]
  },
  {
   "cell_type": "code",
   "execution_count": 183,
   "id": "14cc9424-51d4-4a6c-93d6-2fae7d7455ba",
   "metadata": {},
   "outputs": [
    {
     "name": "stdout",
     "output_type": "stream",
     "text": [
      "_afm\n",
      "_animation_data\n",
      "_api\n",
      "_blocking_input\n",
      "_c_internal_utils\n",
      "_cm\n",
      "_cm_listed\n",
      "_color_data\n",
      "_constrained_layout\n",
      "_docstring\n",
      "_enums\n",
      "_fontconfig_pattern\n",
      "_image\n",
      "_internal_utils\n",
      "_layoutgrid\n",
      "_mathtext\n",
      "_mathtext_data\n",
      "_path\n",
      "_pylab_helpers\n",
      "_qhull\n",
      "_text_helpers\n",
      "_tight_bbox\n",
      "_tight_layout\n",
      "_tri\n",
      "_ttconv\n",
      "_type1font\n",
      "_version\n",
      "animation\n",
      "artist\n",
      "axes\n",
      "axis\n",
      "backend_bases\n",
      "backend_managers\n",
      "backend_tools\n",
      "backends\n",
      "bezier\n",
      "category\n",
      "cbook\n",
      "cm\n",
      "collections\n",
      "colorbar\n",
      "colors\n",
      "container\n",
      "contour\n",
      "dates\n",
      "dviread\n",
      "figure\n",
      "font_manager\n",
      "ft2font\n",
      "gridspec\n",
      "hatch\n",
      "image\n",
      "layout_engine\n",
      "legend\n",
      "legend_handler\n",
      "lines\n",
      "markers\n",
      "mathtext\n",
      "mlab\n",
      "offsetbox\n",
      "patches\n",
      "path\n",
      "patheffects\n",
      "projections\n",
      "pylab\n",
      "pyplot\n",
      "quiver\n",
      "rcsetup\n",
      "sankey\n",
      "scale\n",
      "sphinxext\n",
      "spines\n",
      "stackplot\n",
      "streamplot\n",
      "style\n",
      "table\n",
      "testing\n",
      "tests\n",
      "texmanager\n",
      "text\n",
      "textpath\n",
      "ticker\n",
      "transforms\n",
      "tri\n",
      "typing\n",
      "units\n",
      "widgets\n"
     ]
    }
   ],
   "source": [
    "import pkgutil\n",
    "import matplotlib\n",
    "\n",
    "for importer, modname, ispkg in pkgutil.iter_modules(matplotlib.__path__):\n",
    "    print(modname)\n"
   ]
  },
  {
   "cell_type": "code",
   "execution_count": null,
   "id": "9859bdbf-aa78-4997-b0c9-af40c2d5a822",
   "metadata": {},
   "outputs": [],
   "source": []
  }
 ],
 "metadata": {
  "kernelspec": {
   "display_name": "Python 3 (ipykernel)",
   "language": "python",
   "name": "python3"
  },
  "language_info": {
   "codemirror_mode": {
    "name": "ipython",
    "version": 3
   },
   "file_extension": ".py",
   "mimetype": "text/x-python",
   "name": "python",
   "nbconvert_exporter": "python",
   "pygments_lexer": "ipython3",
   "version": "3.12.4"
  }
 },
 "nbformat": 4,
 "nbformat_minor": 5
}
